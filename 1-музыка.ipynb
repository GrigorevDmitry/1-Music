{
 "cells": [
  {
   "cell_type": "markdown",
   "metadata": {
    "deletable": false,
    "editable": false,
    "id": "E0vqbgi9ay0H"
   },
   "source": [
    "# Яндекс.Музыка"
   ]
  },
  {
   "cell_type": "markdown",
   "metadata": {
    "deletable": false,
    "editable": false,
    "id": "VUC88oWjTJw2"
   },
   "source": [
    "Сравнение Москвы и Петербурга окружено мифами. Например:\n",
    " * Москва — мегаполис, подчинённый жёсткому ритму рабочей недели;\n",
    " * Петербург — культурная столица, со своими вкусами.\n",
    "\n",
    "На данных Яндекс Музыки вы сравните поведение пользователей двух столиц.\n",
    "\n",
    "**Цель исследования** — проверьте три гипотезы:\n",
    "1. Активность пользователей зависит от дня недели. Причём в Москве и Петербурге это проявляется по-разному.\n",
    "2. В понедельник утром в Москве преобладают одни жанры, а в Петербурге — другие. Так же и вечером пятницы преобладают разные жанры — в зависимости от города. \n",
    "3. Москва и Петербург предпочитают разные жанры музыки. В Москве чаще слушают поп-музыку, в Петербурге — русский рэп.\n",
    "\n",
    "**Ход исследования**\n",
    "\n",
    "Данные о поведении пользователей вы получите из файла `yandex_music_project.csv`. О качестве данных ничего не известно. Поэтому перед проверкой гипотез понадобится обзор данных. \n",
    "\n",
    "Вы проверите данные на ошибки и оцените их влияние на исследование. Затем, на этапе предобработки вы поищете возможность исправить самые критичные ошибки данных.\n",
    " \n",
    "Таким образом, исследование пройдёт в три этапа:\n",
    " 1. Обзор данных.\n",
    " 2. Предобработка данных.\n",
    " 3. Проверка гипотез.\n",
    "\n"
   ]
  },
  {
   "cell_type": "markdown",
   "metadata": {
    "deletable": false,
    "editable": false,
    "id": "Ml1hmfXC_Zcs"
   },
   "source": [
    "## Обзор данных\n",
    "\n",
    "Составьте первое представление о данных Яндекс Музыки.\n",
    "\n",
    "\n"
   ]
  },
  {
   "cell_type": "markdown",
   "metadata": {
    "deletable": false,
    "editable": false,
    "id": "57eAOGIz_Zcs",
    "tags": [
     "start_task"
    ]
   },
   "source": [
    "**Задание 1**\n",
    "\n",
    "Основной инструмент аналитика — `pandas`. Импортируйте эту библиотеку."
   ]
  },
  {
   "cell_type": "code",
   "execution_count": 9,
   "metadata": {
    "deletable": false,
    "id": "AXN7PHPN_Zcs"
   },
   "outputs": [],
   "source": [
    "import pandas as pd # импорт библиотеки pandas"
   ]
  },
  {
   "cell_type": "markdown",
   "metadata": {
    "deletable": false,
    "editable": false,
    "id": "SG23P8tt_Zcs",
    "tags": [
     "start_task"
    ]
   },
   "source": [
    "**Задание 2**\n",
    "\n",
    "Прочитайте файл `yandex_music_project.csv` из папки `/datasets` и сохраните его в переменной `df`:"
   ]
  },
  {
   "cell_type": "code",
   "execution_count": 10,
   "metadata": {
    "deletable": false,
    "id": "fFVu7vqh_Zct"
   },
   "outputs": [],
   "source": [
    "df = pd.read_csv('/datasets/yandex_music_project.csv') # чтение файла с данными и сохранение в df"
   ]
  },
  {
   "cell_type": "markdown",
   "metadata": {
    "deletable": false,
    "editable": false,
    "id": "rDoOMd3uTqnZ",
    "tags": [
     "start_task"
    ]
   },
   "source": [
    "**Задание 3**\n",
    "\n",
    "\n",
    "Выведите на экран первые десять строк таблицы:"
   ]
  },
  {
   "cell_type": "code",
   "execution_count": 11,
   "metadata": {
    "deletable": false,
    "id": "oWTVX3gW_Zct"
   },
   "outputs": [
    {
     "data": {
      "text/html": [
       "<div>\n",
       "<style scoped>\n",
       "    .dataframe tbody tr th:only-of-type {\n",
       "        vertical-align: middle;\n",
       "    }\n",
       "\n",
       "    .dataframe tbody tr th {\n",
       "        vertical-align: top;\n",
       "    }\n",
       "\n",
       "    .dataframe thead th {\n",
       "        text-align: right;\n",
       "    }\n",
       "</style>\n",
       "<table border=\"1\" class=\"dataframe\">\n",
       "  <thead>\n",
       "    <tr style=\"text-align: right;\">\n",
       "      <th></th>\n",
       "      <th>userID</th>\n",
       "      <th>Track</th>\n",
       "      <th>artist</th>\n",
       "      <th>genre</th>\n",
       "      <th>City</th>\n",
       "      <th>time</th>\n",
       "      <th>Day</th>\n",
       "    </tr>\n",
       "  </thead>\n",
       "  <tbody>\n",
       "    <tr>\n",
       "      <th>0</th>\n",
       "      <td>FFB692EC</td>\n",
       "      <td>Kamigata To Boots</td>\n",
       "      <td>The Mass Missile</td>\n",
       "      <td>rock</td>\n",
       "      <td>Saint-Petersburg</td>\n",
       "      <td>20:28:33</td>\n",
       "      <td>Wednesday</td>\n",
       "    </tr>\n",
       "    <tr>\n",
       "      <th>1</th>\n",
       "      <td>55204538</td>\n",
       "      <td>Delayed Because of Accident</td>\n",
       "      <td>Andreas Rönnberg</td>\n",
       "      <td>rock</td>\n",
       "      <td>Moscow</td>\n",
       "      <td>14:07:09</td>\n",
       "      <td>Friday</td>\n",
       "    </tr>\n",
       "    <tr>\n",
       "      <th>2</th>\n",
       "      <td>20EC38</td>\n",
       "      <td>Funiculì funiculà</td>\n",
       "      <td>Mario Lanza</td>\n",
       "      <td>pop</td>\n",
       "      <td>Saint-Petersburg</td>\n",
       "      <td>20:58:07</td>\n",
       "      <td>Wednesday</td>\n",
       "    </tr>\n",
       "    <tr>\n",
       "      <th>3</th>\n",
       "      <td>A3DD03C9</td>\n",
       "      <td>Dragons in the Sunset</td>\n",
       "      <td>Fire + Ice</td>\n",
       "      <td>folk</td>\n",
       "      <td>Saint-Petersburg</td>\n",
       "      <td>08:37:09</td>\n",
       "      <td>Monday</td>\n",
       "    </tr>\n",
       "    <tr>\n",
       "      <th>4</th>\n",
       "      <td>E2DC1FAE</td>\n",
       "      <td>Soul People</td>\n",
       "      <td>Space Echo</td>\n",
       "      <td>dance</td>\n",
       "      <td>Moscow</td>\n",
       "      <td>08:34:34</td>\n",
       "      <td>Monday</td>\n",
       "    </tr>\n",
       "    <tr>\n",
       "      <th>5</th>\n",
       "      <td>842029A1</td>\n",
       "      <td>Преданная</td>\n",
       "      <td>IMPERVTOR</td>\n",
       "      <td>rusrap</td>\n",
       "      <td>Saint-Petersburg</td>\n",
       "      <td>13:09:41</td>\n",
       "      <td>Friday</td>\n",
       "    </tr>\n",
       "    <tr>\n",
       "      <th>6</th>\n",
       "      <td>4CB90AA5</td>\n",
       "      <td>True</td>\n",
       "      <td>Roman Messer</td>\n",
       "      <td>dance</td>\n",
       "      <td>Moscow</td>\n",
       "      <td>13:00:07</td>\n",
       "      <td>Wednesday</td>\n",
       "    </tr>\n",
       "    <tr>\n",
       "      <th>7</th>\n",
       "      <td>F03E1C1F</td>\n",
       "      <td>Feeling This Way</td>\n",
       "      <td>Polina Griffith</td>\n",
       "      <td>dance</td>\n",
       "      <td>Moscow</td>\n",
       "      <td>20:47:49</td>\n",
       "      <td>Wednesday</td>\n",
       "    </tr>\n",
       "    <tr>\n",
       "      <th>8</th>\n",
       "      <td>8FA1D3BE</td>\n",
       "      <td>И вновь продолжается бой</td>\n",
       "      <td>NaN</td>\n",
       "      <td>ruspop</td>\n",
       "      <td>Moscow</td>\n",
       "      <td>09:17:40</td>\n",
       "      <td>Friday</td>\n",
       "    </tr>\n",
       "    <tr>\n",
       "      <th>9</th>\n",
       "      <td>E772D5C0</td>\n",
       "      <td>Pessimist</td>\n",
       "      <td>NaN</td>\n",
       "      <td>dance</td>\n",
       "      <td>Saint-Petersburg</td>\n",
       "      <td>21:20:49</td>\n",
       "      <td>Wednesday</td>\n",
       "    </tr>\n",
       "  </tbody>\n",
       "</table>\n",
       "</div>"
      ],
      "text/plain": [
       "     userID                        Track            artist   genre  \\\n",
       "0  FFB692EC            Kamigata To Boots  The Mass Missile    rock   \n",
       "1  55204538  Delayed Because of Accident  Andreas Rönnberg    rock   \n",
       "2    20EC38            Funiculì funiculà       Mario Lanza     pop   \n",
       "3  A3DD03C9        Dragons in the Sunset        Fire + Ice    folk   \n",
       "4  E2DC1FAE                  Soul People        Space Echo   dance   \n",
       "5  842029A1                    Преданная         IMPERVTOR  rusrap   \n",
       "6  4CB90AA5                         True      Roman Messer   dance   \n",
       "7  F03E1C1F             Feeling This Way   Polina Griffith   dance   \n",
       "8  8FA1D3BE     И вновь продолжается бой               NaN  ruspop   \n",
       "9  E772D5C0                    Pessimist               NaN   dance   \n",
       "\n",
       "             City        time        Day  \n",
       "0  Saint-Petersburg  20:28:33  Wednesday  \n",
       "1            Moscow  14:07:09     Friday  \n",
       "2  Saint-Petersburg  20:58:07  Wednesday  \n",
       "3  Saint-Petersburg  08:37:09     Monday  \n",
       "4            Moscow  08:34:34     Monday  \n",
       "5  Saint-Petersburg  13:09:41     Friday  \n",
       "6            Moscow  13:00:07  Wednesday  \n",
       "7            Moscow  20:47:49  Wednesday  \n",
       "8            Moscow  09:17:40     Friday  \n",
       "9  Saint-Petersburg  21:20:49  Wednesday  "
      ]
     },
     "execution_count": 11,
     "metadata": {},
     "output_type": "execute_result"
    }
   ],
   "source": [
    "df.head(10) # получение первых 10 строк таблицы df"
   ]
  },
  {
   "cell_type": "markdown",
   "metadata": {
    "deletable": false,
    "editable": false,
    "id": "EO73Kwic_Zct",
    "tags": [
     "start_task"
    ]
   },
   "source": [
    "**Задание 4**\n",
    "\n",
    "\n",
    "Одной командой получить общую информацию о таблице c помощью метода `info()`:"
   ]
  },
  {
   "cell_type": "code",
   "execution_count": 12,
   "metadata": {
    "deletable": false,
    "id": "DSf2kIb-_Zct"
   },
   "outputs": [
    {
     "name": "stdout",
     "output_type": "stream",
     "text": [
      "<class 'pandas.core.frame.DataFrame'>\n",
      "RangeIndex: 65079 entries, 0 to 65078\n",
      "Data columns (total 7 columns):\n",
      " #   Column    Non-Null Count  Dtype \n",
      "---  ------    --------------  ----- \n",
      " 0     userID  65079 non-null  object\n",
      " 1   Track     63848 non-null  object\n",
      " 2   artist    57876 non-null  object\n",
      " 3   genre     63881 non-null  object\n",
      " 4     City    65079 non-null  object\n",
      " 5   time      65079 non-null  object\n",
      " 6   Day       65079 non-null  object\n",
      "dtypes: object(7)\n",
      "memory usage: 3.5+ MB\n"
     ]
    }
   ],
   "source": [
    "df.info() # получение общей информации о данных в таблице df"
   ]
  },
  {
   "cell_type": "markdown",
   "metadata": {
    "deletable": false,
    "editable": false,
    "id": "TaQ2Iwbr_Zct"
   },
   "source": [
    "Итак, в таблице семь столбцов. Тип данных во всех столбцах — `object`.\n",
    "\n",
    "Согласно документации к данным:\n",
    "* `userID` — идентификатор пользователя;\n",
    "* `Track` — название трека;  \n",
    "* `artist` — имя исполнителя;\n",
    "* `genre` — название жанра;\n",
    "* `City` — город пользователя;\n",
    "* `time` — время начала прослушивания;\n",
    "* `Day` — день недели.\n",
    "\n",
    "Количество значений в столбцах различается. Значит, в данных есть пропущенные значения."
   ]
  },
  {
   "cell_type": "markdown",
   "metadata": {
    "deletable": false,
    "editable": false,
    "id": "4P0UCWzswgEm",
    "tags": [
     "start_task"
    ]
   },
   "source": [
    "**Задание 5**\n",
    "\n",
    "**Вопрос со свободной формой ответа**\n",
    "\n",
    "В названиях колонок видны три нарушения стиля:\n",
    "1. Строчные буквы сочетаются с прописными.\n",
    "2. Встречаются пробелы."
   ]
  },
  {
   "cell_type": "code",
   "execution_count": 13,
   "metadata": {
    "id": "c137-ZstwgEm"
   },
   "outputs": [],
   "source": [
    "# userID стоит разделить подчёркиванием и привести к единому регистру - user_id"
   ]
  },
  {
   "cell_type": "markdown",
   "metadata": {
    "deletable": false,
    "editable": false,
    "id": "MCB6-dXG_Zct"
   },
   "source": [
    "**Выводы**\n",
    "\n",
    "В каждой строке таблицы — данные о прослушанном треке. Часть колонок описывает саму композицию: название, исполнителя и жанр. Остальные данные рассказывают о пользователе: из какого он города, когда он слушал музыку. \n",
    "\n",
    "Предварительно можно утверждать, что, данных достаточно для проверки гипотез. Но встречаются пропуски в данных, а в названиях колонок — расхождения с хорошим стилем.\n",
    "\n",
    "Чтобы двигаться дальше, нужно устранить проблемы в данных."
   ]
  },
  {
   "cell_type": "markdown",
   "metadata": {
    "deletable": false,
    "editable": false,
    "id": "SjYF6Ub9_Zct"
   },
   "source": [
    "## Предобработка данных\n",
    "Исправьте стиль в заголовках столбцов, исключите пропуски. Затем проверьте данные на дубликаты."
   ]
  },
  {
   "cell_type": "markdown",
   "metadata": {
    "deletable": false,
    "editable": false,
    "id": "dIaKXr29_Zct",
    "tags": [
     "start_task"
    ]
   },
   "source": [
    "### Стиль заголовков\n",
    "\n",
    "**Задание 6**\n",
    "\n",
    "Выведите на экран названия столбцов:"
   ]
  },
  {
   "cell_type": "code",
   "execution_count": 14,
   "metadata": {
    "deletable": false,
    "id": "oKOTdF_Q_Zct"
   },
   "outputs": [
    {
     "name": "stdout",
     "output_type": "stream",
     "text": [
      "Index(['  userID', 'Track', 'artist', 'genre', '  City  ', 'time', 'Day'], dtype='object')\n"
     ]
    }
   ],
   "source": [
    "print(df.columns) # перечень названий столбцов таблицы df"
   ]
  },
  {
   "cell_type": "markdown",
   "metadata": {
    "deletable": false,
    "editable": false,
    "id": "zj5534cv_Zct",
    "tags": [
     "start_task"
    ]
   },
   "source": [
    "**Задание 7**\n",
    "\n",
    "\n",
    "Приведите названия в соответствие с хорошим стилем:\n",
    "* несколько слов в названии запишите в «змеином_регистре»,\n",
    "* все символы сделайте строчными,\n",
    "* устраните пробелы.\n",
    "\n",
    "Для этого переименуйте колонки так:\n",
    "* `'  userID'` → `'user_id'`;\n",
    "* `'Track'` → `'track'`;\n",
    "* `'  City  '` → `'city'`;\n",
    "* `'Day'` → `'day'`."
   ]
  },
  {
   "cell_type": "code",
   "execution_count": 15,
   "metadata": {
    "deletable": false,
    "id": "ISlFqs5y_Zct"
   },
   "outputs": [],
   "source": [
    "df = df.rename(columns={'  userID':'user_id', 'Track':'track', '  City  ':'city', 'Day':'day'}) # переименование столбцов"
   ]
  },
  {
   "cell_type": "markdown",
   "metadata": {
    "deletable": false,
    "editable": false,
    "id": "1dqbh00J_Zct",
    "tags": [
     "start_task"
    ]
   },
   "source": [
    "**Задание 8**\n",
    "\n",
    "\n",
    "Проверьте результат. Для этого ещё раз выведите на экран названия столбцов:"
   ]
  },
  {
   "cell_type": "code",
   "execution_count": 16,
   "metadata": {
    "deletable": false,
    "id": "d4NOAmTW_Zct"
   },
   "outputs": [
    {
     "name": "stdout",
     "output_type": "stream",
     "text": [
      "Index(['user_id', 'track', 'artist', 'genre', 'city', 'time', 'day'], dtype='object')\n"
     ]
    }
   ],
   "source": [
    "print(df.columns) # проверка результатов - перечень названий столбцов"
   ]
  },
  {
   "cell_type": "markdown",
   "metadata": {
    "deletable": false,
    "editable": false,
    "id": "5ISfbcfY_Zct",
    "tags": [
     "start_task"
    ]
   },
   "source": [
    "### Пропуски значений\n",
    "\n",
    "**Задание 9**\n",
    "\n",
    "Сначала посчитайте, сколько в таблице пропущенных значений. Для этого достаточно двух методов `pandas`:"
   ]
  },
  {
   "cell_type": "code",
   "execution_count": 17,
   "metadata": {
    "deletable": false,
    "id": "RskX29qr_Zct",
    "scrolled": true
   },
   "outputs": [
    {
     "name": "stdout",
     "output_type": "stream",
     "text": [
      "user_id       0\n",
      "track      1231\n",
      "artist     7203\n",
      "genre      1198\n",
      "city          0\n",
      "time          0\n",
      "day           0\n",
      "dtype: int64\n"
     ]
    }
   ],
   "source": [
    "print(df.isna().sum()) # подсчёт пропусков"
   ]
  },
  {
   "cell_type": "markdown",
   "metadata": {
    "deletable": false,
    "editable": false,
    "id": "qubhgnlO_Zct"
   },
   "source": [
    "Не все пропущенные значения влияют на исследование. Так в `track` и `artist` пропуски не важны для вашей работы. Достаточно заменить их явными обозначениями.\n",
    "\n",
    "Но пропуски в `genre` могут помешать сравнению музыкальных вкусов в Москве и Санкт-Петербурге. На практике было бы правильно установить причину пропусков и восстановить данные. Такой возможности нет в учебном проекте. Придётся:\n",
    "* заполнить и эти пропуски явными обозначениями,\n",
    "* оценить, насколько они повредят расчётам. "
   ]
  },
  {
   "cell_type": "markdown",
   "metadata": {
    "deletable": false,
    "editable": false,
    "id": "fSv2laPA_Zct",
    "tags": [
     "start_task"
    ]
   },
   "source": [
    "**Задание 10**\n",
    "\n",
    "Замените пропущенные значения в столбцах `track`, `artist` и `genre` на строку `'unknown'`. Для этого создайте список `columns_to_replace`, переберите его элементы циклом `for` и для каждого столбца выполните замену пропущенных значений:"
   ]
  },
  {
   "cell_type": "code",
   "execution_count": 24,
   "metadata": {
    "deletable": false,
    "id": "KplB5qWs_Zct"
   },
   "outputs": [],
   "source": [
    "columns_to_replace = ['track', 'artist', 'genre'] #  перебор названий столбцов в цикле и замена пропущенных значений на 'unknown'\n",
    "for i in columns_to_replace:\n",
    "    df[i] = df[i].fillna('unknown') "
   ]
  },
  {
   "cell_type": "markdown",
   "metadata": {
    "deletable": false,
    "editable": false,
    "id": "Ilsm-MZo_Zct",
    "tags": [
     "start_task"
    ]
   },
   "source": [
    "**Задание 11**\n",
    "\n",
    "Убедитесь, что в таблице не осталось пропусков. Для этого ещё раз посчитайте пропущенные значения."
   ]
  },
  {
   "cell_type": "code",
   "execution_count": 21,
   "metadata": {
    "deletable": false,
    "id": "Tq4nYRX4_Zct"
   },
   "outputs": [
    {
     "name": "stdout",
     "output_type": "stream",
     "text": [
      "user_id    0\n",
      "track      0\n",
      "artist     0\n",
      "genre      0\n",
      "city       0\n",
      "time       0\n",
      "day        0\n",
      "dtype: int64\n",
      "<class 'pandas.core.frame.DataFrame'>\n",
      "RangeIndex: 65079 entries, 0 to 65078\n",
      "Data columns (total 7 columns):\n",
      " #   Column   Non-Null Count  Dtype \n",
      "---  ------   --------------  ----- \n",
      " 0   user_id  65079 non-null  object\n",
      " 1   track    65079 non-null  object\n",
      " 2   artist   65079 non-null  object\n",
      " 3   genre    65079 non-null  object\n",
      " 4   city     65079 non-null  object\n",
      " 5   time     65079 non-null  object\n",
      " 6   day      65079 non-null  object\n",
      "dtypes: object(7)\n",
      "memory usage: 3.5+ MB\n"
     ]
    }
   ],
   "source": [
    "print(df.isna().sum()) # подсчёт пропусков\n",
    "df.info()"
   ]
  },
  {
   "cell_type": "markdown",
   "metadata": {
    "deletable": false,
    "editable": false,
    "id": "BWKRtBJ3_Zct",
    "tags": [
     "start_task"
    ]
   },
   "source": [
    "### Дубликаты\n",
    "\n",
    "**Задание 12**\n",
    "\n",
    "Посчитайте явные дубликаты в таблице одной командой:"
   ]
  },
  {
   "cell_type": "code",
   "execution_count": 20,
   "metadata": {
    "deletable": false,
    "id": "36eES_S0_Zct"
   },
   "outputs": [
    {
     "name": "stdout",
     "output_type": "stream",
     "text": [
      "3826\n",
      "<class 'pandas.core.frame.DataFrame'>\n",
      "RangeIndex: 65079 entries, 0 to 65078\n",
      "Data columns (total 7 columns):\n",
      " #   Column   Non-Null Count  Dtype \n",
      "---  ------   --------------  ----- \n",
      " 0   user_id  65079 non-null  object\n",
      " 1   track    65079 non-null  object\n",
      " 2   artist   65079 non-null  object\n",
      " 3   genre    65079 non-null  object\n",
      " 4   city     65079 non-null  object\n",
      " 5   time     65079 non-null  object\n",
      " 6   day      65079 non-null  object\n",
      "dtypes: object(7)\n",
      "memory usage: 3.5+ MB\n"
     ]
    }
   ],
   "source": [
    "print(df.duplicated().sum()) # подсчёт явных дубликатов\n",
    "#print(df.duplicated())\n",
    "df.info()"
   ]
  },
  {
   "cell_type": "markdown",
   "metadata": {
    "deletable": false,
    "editable": false,
    "id": "Ot25h6XR_Zct",
    "tags": [
     "start_task"
    ]
   },
   "source": [
    "**Задание 13**\n",
    "\n",
    "Вызовите специальный метод `pandas`, чтобы удалить явные дубликаты:"
   ]
  },
  {
   "cell_type": "code",
   "execution_count": 22,
   "metadata": {
    "deletable": false,
    "id": "exFHq6tt_Zct"
   },
   "outputs": [],
   "source": [
    "df = df.drop_duplicates() # удаление явных дубликатов (с удалением старых индексов и формированием новых) "
   ]
  },
  {
   "cell_type": "markdown",
   "metadata": {
    "deletable": false,
    "editable": false,
    "id": "Im2YwBEG_Zct",
    "tags": [
     "start_task"
    ]
   },
   "source": [
    "**Задание 14**\n",
    "\n",
    "Ещё раз посчитайте явные дубликаты в таблице — убедитесь, что полностью от них избавились:"
   ]
  },
  {
   "cell_type": "code",
   "execution_count": 23,
   "metadata": {
    "deletable": false,
    "id": "-8PuNWQ0_Zct"
   },
   "outputs": [
    {
     "name": "stdout",
     "output_type": "stream",
     "text": [
      "0\n"
     ]
    }
   ],
   "source": [
    "print(df.duplicated().sum()) # проверка на отсутствие дубликатов"
   ]
  },
  {
   "cell_type": "markdown",
   "metadata": {
    "deletable": false,
    "editable": false,
    "id": "QlFBsxAr_Zct"
   },
   "source": [
    "Теперь избавьтесь от неявных дубликатов в колонке `genre`. Например, название одного и того же жанра может быть записано немного по-разному. Такие ошибки тоже повлияют на результат исследования."
   ]
  },
  {
   "cell_type": "markdown",
   "metadata": {
    "deletable": false,
    "editable": false,
    "id": "eSjWwsOh_Zct",
    "tags": [
     "start_task"
    ]
   },
   "source": [
    "**Задание 15**\n",
    "\n",
    "Выведите на экран список уникальных названий жанров, отсортированный в алфавитном порядке. Для этого:\n",
    "* извлеките нужный столбец датафрейма, \n",
    "* примените к нему метод сортировки,\n",
    "* для отсортированного столбца вызовите метод, который вернёт уникальные значения из столбца."
   ]
  },
  {
   "cell_type": "code",
   "execution_count": 21,
   "metadata": {
    "deletable": false,
    "id": "JIUcqzZN_Zct"
   },
   "outputs": [
    {
     "data": {
      "text/plain": [
       "array(['acid', 'acoustic', 'action', 'adult', 'africa', 'afrikaans',\n",
       "       'alternative', 'alternativepunk', 'ambient', 'americana',\n",
       "       'animated', 'anime', 'arabesk', 'arabic', 'arena',\n",
       "       'argentinetango', 'art', 'audiobook', 'author', 'avantgarde',\n",
       "       'axé', 'baile', 'balkan', 'beats', 'bigroom', 'black', 'bluegrass',\n",
       "       'blues', 'bollywood', 'bossa', 'brazilian', 'breakbeat', 'breaks',\n",
       "       'broadway', 'cantautori', 'cantopop', 'canzone', 'caribbean',\n",
       "       'caucasian', 'celtic', 'chamber', 'chanson', 'children', 'chill',\n",
       "       'chinese', 'choral', 'christian', 'christmas', 'classical',\n",
       "       'classicmetal', 'club', 'colombian', 'comedy', 'conjazz',\n",
       "       'contemporary', 'country', 'cuban', 'dance', 'dancehall',\n",
       "       'dancepop', 'dark', 'death', 'deep', 'deutschrock', 'deutschspr',\n",
       "       'dirty', 'disco', 'dnb', 'documentary', 'downbeat', 'downtempo',\n",
       "       'drum', 'dub', 'dubstep', 'eastern', 'easy', 'electronic',\n",
       "       'electropop', 'emo', 'entehno', 'epicmetal', 'estrada', 'ethnic',\n",
       "       'eurofolk', 'european', 'experimental', 'extrememetal', 'fado',\n",
       "       'fairytail', 'film', 'fitness', 'flamenco', 'folk', 'folklore',\n",
       "       'folkmetal', 'folkrock', 'folktronica', 'forró', 'frankreich',\n",
       "       'französisch', 'french', 'funk', 'future', 'gangsta', 'garage',\n",
       "       'german', 'ghazal', 'gitarre', 'glitch', 'gospel', 'gothic',\n",
       "       'grime', 'grunge', 'gypsy', 'handsup', \"hard'n'heavy\", 'hardcore',\n",
       "       'hardstyle', 'hardtechno', 'hip', 'hip-hop', 'hiphop',\n",
       "       'historisch', 'holiday', 'hop', 'horror', 'house', 'hymn', 'idm',\n",
       "       'independent', 'indian', 'indie', 'indipop', 'industrial',\n",
       "       'inspirational', 'instrumental', 'international', 'irish', 'jam',\n",
       "       'japanese', 'jazz', 'jewish', 'jpop', 'jungle', 'k-pop',\n",
       "       'karadeniz', 'karaoke', 'kayokyoku', 'korean', 'laiko', 'latin',\n",
       "       'latino', 'leftfield', 'local', 'lounge', 'loungeelectronic',\n",
       "       'lovers', 'malaysian', 'mandopop', 'marschmusik', 'meditative',\n",
       "       'mediterranean', 'melodic', 'metal', 'metalcore', 'mexican',\n",
       "       'middle', 'minimal', 'miscellaneous', 'modern', 'mood', 'mpb',\n",
       "       'muslim', 'native', 'neoklassik', 'neue', 'new', 'newage',\n",
       "       'newwave', 'nu', 'nujazz', 'numetal', 'oceania', 'old', 'opera',\n",
       "       'orchestral', 'other', 'piano', 'podcasts', 'pop', 'popdance',\n",
       "       'popelectronic', 'popeurodance', 'poprussian', 'post',\n",
       "       'posthardcore', 'postrock', 'power', 'progmetal', 'progressive',\n",
       "       'psychedelic', 'punjabi', 'punk', 'quebecois', 'ragga', 'ram',\n",
       "       'rancheras', 'rap', 'rave', 'reggae', 'reggaeton', 'regional',\n",
       "       'relax', 'religious', 'retro', 'rhythm', 'rnb', 'rnr', 'rock',\n",
       "       'rockabilly', 'rockalternative', 'rockindie', 'rockother',\n",
       "       'romance', 'roots', 'ruspop', 'rusrap', 'rusrock', 'russian',\n",
       "       'salsa', 'samba', 'scenic', 'schlager', 'self', 'sertanejo',\n",
       "       'shanson', 'shoegazing', 'showtunes', 'singer', 'ska', 'skarock',\n",
       "       'slow', 'smooth', 'soft', 'soul', 'soulful', 'sound', 'soundtrack',\n",
       "       'southern', 'specialty', 'speech', 'spiritual', 'sport',\n",
       "       'stonerrock', 'surf', 'swing', 'synthpop', 'synthrock',\n",
       "       'sängerportrait', 'tango', 'tanzorchester', 'taraftar', 'tatar',\n",
       "       'tech', 'techno', 'teen', 'thrash', 'top', 'traditional',\n",
       "       'tradjazz', 'trance', 'tribal', 'trip', 'triphop', 'tropical',\n",
       "       'türk', 'türkçe', 'ukrrock', 'unknown', 'urban', 'uzbek',\n",
       "       'variété', 'vi', 'videogame', 'vocal', 'western', 'world',\n",
       "       'worldbeat', 'ïîï', 'электроника'], dtype=object)"
      ]
     },
     "execution_count": 21,
     "metadata": {},
     "output_type": "execute_result"
    }
   ],
   "source": [
    "genres_list = df.sort_values('genre')['genre'].unique()# Просмотр уникальных названий жанров\n",
    "genres_list"
   ]
  },
  {
   "cell_type": "markdown",
   "metadata": {
    "deletable": false,
    "editable": false,
    "id": "qej-Qmuo_Zct",
    "tags": [
     "start_task"
    ]
   },
   "source": [
    "**Задание 16**\n",
    "\n",
    "Просмотрите список и найдите неявные дубликаты названия `hiphop`. Это могут быть названия с ошибками или альтернативные названия того же жанра.\n",
    "\n",
    "Вы увидите следующие неявные дубликаты:\n",
    "* *hip*,\n",
    "* *hop*,\n",
    "* *hip-hop*.\n",
    "\n",
    "Чтобы очистить от них таблицу используйте метод `replace()` с двумя аргументами: списком строк-дубликатов (включащий *hip*, *hop* и *hip-hop*) и строкой с правильным значением. Вам нужно исправить колонку `genre` в таблице `df`: заменить каждое значение из списка дубликатов на верное. Вместо `hip`, `hop` и `hip-hop` в таблице должно быть значение `hiphop`:"
   ]
  },
  {
   "cell_type": "code",
   "execution_count": 22,
   "metadata": {
    "deletable": false,
    "id": "ErNDkmns_Zct"
   },
   "outputs": [],
   "source": [
    "correction=['hip', 'hop', 'hip-hop']\n",
    "df = df.replace(correction, 'hiphop')"
   ]
  },
  {
   "cell_type": "markdown",
   "metadata": {
    "deletable": false,
    "editable": false,
    "id": "zQKF16_RG15m",
    "tags": [
     "start_task"
    ]
   },
   "source": [
    "**Задание 17**\n",
    "\n",
    "Проверьте, что заменили неправильные названия:\n",
    "\n",
    "*   hip\n",
    "*   hop\n",
    "*   hip-hop\n",
    "\n",
    "Выведите отсортированный список уникальных значений столбца `genre`:"
   ]
  },
  {
   "cell_type": "code",
   "execution_count": 23,
   "metadata": {
    "deletable": false,
    "id": "wvixALnFG15m"
   },
   "outputs": [
    {
     "data": {
      "text/plain": [
       "array(['acid', 'acoustic', 'action', 'adult', 'africa', 'afrikaans',\n",
       "       'alternative', 'alternativepunk', 'ambient', 'americana',\n",
       "       'animated', 'anime', 'arabesk', 'arabic', 'arena',\n",
       "       'argentinetango', 'art', 'audiobook', 'author', 'avantgarde',\n",
       "       'axé', 'baile', 'balkan', 'beats', 'bigroom', 'black', 'bluegrass',\n",
       "       'blues', 'bollywood', 'bossa', 'brazilian', 'breakbeat', 'breaks',\n",
       "       'broadway', 'cantautori', 'cantopop', 'canzone', 'caribbean',\n",
       "       'caucasian', 'celtic', 'chamber', 'chanson', 'children', 'chill',\n",
       "       'chinese', 'choral', 'christian', 'christmas', 'classical',\n",
       "       'classicmetal', 'club', 'colombian', 'comedy', 'conjazz',\n",
       "       'contemporary', 'country', 'cuban', 'dance', 'dancehall',\n",
       "       'dancepop', 'dark', 'death', 'deep', 'deutschrock', 'deutschspr',\n",
       "       'dirty', 'disco', 'dnb', 'documentary', 'downbeat', 'downtempo',\n",
       "       'drum', 'dub', 'dubstep', 'eastern', 'easy', 'electronic',\n",
       "       'electropop', 'emo', 'entehno', 'epicmetal', 'estrada', 'ethnic',\n",
       "       'eurofolk', 'european', 'experimental', 'extrememetal', 'fado',\n",
       "       'fairytail', 'film', 'fitness', 'flamenco', 'folk', 'folklore',\n",
       "       'folkmetal', 'folkrock', 'folktronica', 'forró', 'frankreich',\n",
       "       'französisch', 'french', 'funk', 'future', 'gangsta', 'garage',\n",
       "       'german', 'ghazal', 'gitarre', 'glitch', 'gospel', 'gothic',\n",
       "       'grime', 'grunge', 'gypsy', 'handsup', \"hard'n'heavy\", 'hardcore',\n",
       "       'hardstyle', 'hardtechno', 'hiphop', 'historisch', 'holiday',\n",
       "       'horror', 'house', 'hymn', 'idm', 'independent', 'indian', 'indie',\n",
       "       'indipop', 'industrial', 'inspirational', 'instrumental',\n",
       "       'international', 'irish', 'jam', 'japanese', 'jazz', 'jewish',\n",
       "       'jpop', 'jungle', 'k-pop', 'karadeniz', 'karaoke', 'kayokyoku',\n",
       "       'korean', 'laiko', 'latin', 'latino', 'leftfield', 'local',\n",
       "       'lounge', 'loungeelectronic', 'lovers', 'malaysian', 'mandopop',\n",
       "       'marschmusik', 'meditative', 'mediterranean', 'melodic', 'metal',\n",
       "       'metalcore', 'mexican', 'middle', 'minimal', 'miscellaneous',\n",
       "       'modern', 'mood', 'mpb', 'muslim', 'native', 'neoklassik', 'neue',\n",
       "       'new', 'newage', 'newwave', 'nu', 'nujazz', 'numetal', 'oceania',\n",
       "       'old', 'opera', 'orchestral', 'other', 'piano', 'podcasts', 'pop',\n",
       "       'popdance', 'popelectronic', 'popeurodance', 'poprussian', 'post',\n",
       "       'posthardcore', 'postrock', 'power', 'progmetal', 'progressive',\n",
       "       'psychedelic', 'punjabi', 'punk', 'quebecois', 'ragga', 'ram',\n",
       "       'rancheras', 'rap', 'rave', 'reggae', 'reggaeton', 'regional',\n",
       "       'relax', 'religious', 'retro', 'rhythm', 'rnb', 'rnr', 'rock',\n",
       "       'rockabilly', 'rockalternative', 'rockindie', 'rockother',\n",
       "       'romance', 'roots', 'ruspop', 'rusrap', 'rusrock', 'russian',\n",
       "       'salsa', 'samba', 'scenic', 'schlager', 'self', 'sertanejo',\n",
       "       'shanson', 'shoegazing', 'showtunes', 'singer', 'ska', 'skarock',\n",
       "       'slow', 'smooth', 'soft', 'soul', 'soulful', 'sound', 'soundtrack',\n",
       "       'southern', 'specialty', 'speech', 'spiritual', 'sport',\n",
       "       'stonerrock', 'surf', 'swing', 'synthpop', 'synthrock',\n",
       "       'sängerportrait', 'tango', 'tanzorchester', 'taraftar', 'tatar',\n",
       "       'tech', 'techno', 'teen', 'thrash', 'top', 'traditional',\n",
       "       'tradjazz', 'trance', 'tribal', 'trip', 'triphop', 'tropical',\n",
       "       'türk', 'türkçe', 'ukrrock', 'unknown', 'urban', 'uzbek',\n",
       "       'variété', 'vi', 'videogame', 'vocal', 'western', 'world',\n",
       "       'worldbeat', 'ïîï', 'электроника'], dtype=object)"
      ]
     },
     "execution_count": 23,
     "metadata": {},
     "output_type": "execute_result"
    }
   ],
   "source": [
    "genres_list = df.sort_values('genre')['genre'].unique() # Проверка на неявные дубликаты\n",
    "genres_list"
   ]
  },
  {
   "cell_type": "markdown",
   "metadata": {
    "deletable": false,
    "editable": false,
    "id": "jz6a9-7HQUDd"
   },
   "source": [
    "**Выводы**\n",
    "\n",
    "Предобработка обнаружила три проблемы в данных:\n",
    "\n",
    "- нарушения в стиле заголовков,\n",
    "- пропущенные значения,\n",
    "- дубликаты — явные и неявные.\n",
    "\n",
    "Вы исправили заголовки, чтобы упростить работу с таблицей. Без дубликатов исследование станет более точным.\n",
    "\n",
    "Пропущенные значения вы заменили на `'unknown'`. Ещё предстоит увидеть, не повредят ли исследованию пропуски в колонке `genre`.\n",
    "\n",
    "Теперь можно перейти к проверке гипотез. "
   ]
  },
  {
   "cell_type": "markdown",
   "metadata": {
    "deletable": false,
    "editable": false,
    "id": "WttZHXH0SqKk"
   },
   "source": [
    "## Проверка гипотез"
   ]
  },
  {
   "cell_type": "markdown",
   "metadata": {
    "deletable": false,
    "editable": false,
    "id": "Im936VVi_Zcu"
   },
   "source": [
    "### Сравнение поведения пользователей двух столиц"
   ]
  },
  {
   "cell_type": "markdown",
   "metadata": {
    "deletable": false,
    "editable": false,
    "id": "nwt_MuaL_Zcu"
   },
   "source": [
    "Первая гипотеза утверждает, что пользователи по-разному слушают музыку в Москве и Санкт-Петербурге. Проверьте это предположение по данным о трёх днях недели — понедельнике, среде и пятнице. Для этого:\n",
    "\n",
    "* Разделите пользователей Москвы и Санкт-Петербурга\n",
    "* Сравните, сколько треков послушала каждая группа пользователей в понедельник, среду и пятницу.\n"
   ]
  },
  {
   "cell_type": "markdown",
   "metadata": {
    "deletable": false,
    "editable": false,
    "id": "8Dw_YMmT_Zcu",
    "tags": [
     "start_task"
    ]
   },
   "source": [
    "**Задание 18**\n",
    "\n",
    "Для тренировки сначала выполните каждый из расчётов по отдельности. \n",
    "\n",
    "Оцените активность пользователей в каждом городе. Сгруппируйте данные по городу и посчитайте прослушивания в каждой группе.\n",
    "\n"
   ]
  },
  {
   "cell_type": "code",
   "execution_count": 24,
   "metadata": {
    "deletable": false,
    "id": "0_Qs96oh_Zcu"
   },
   "outputs": [
    {
     "data": {
      "text/plain": [
       "city\n",
       "Moscow              42741\n",
       "Saint-Petersburg    18512\n",
       "Name: genre, dtype: int64"
      ]
     },
     "execution_count": 24,
     "metadata": {},
     "output_type": "execute_result"
    }
   ],
   "source": [
    "moscow=df.groupby('city')['genre'].count() # Подсчёт прослушиваний в каждом городе\n",
    "moscow "
   ]
  },
  {
   "cell_type": "markdown",
   "metadata": {
    "deletable": false,
    "editable": false,
    "id": "dzli3w8o_Zcu",
    "tags": [
     "start_task"
    ]
   },
   "source": [
    "В Москве прослушиваний больше, чем в Петербурге. Из этого не следует, что московские пользователи чаще слушают музыку. Просто самих пользователей в Москве больше.\n",
    "\n",
    "**Задание 19**\n",
    "\n",
    "Теперь сгруппируйте данные по дню недели и подсчитайте прослушивания в понедельник, среду и пятницу. Учтите, что в данных есть информация только о прослушиваниях только за эти дни.\n"
   ]
  },
  {
   "cell_type": "code",
   "execution_count": 25,
   "metadata": {
    "deletable": false,
    "id": "uZMKjiJz_Zcu"
   },
   "outputs": [
    {
     "data": {
      "text/plain": [
       "day\n",
       "Friday       21840\n",
       "Monday       21354\n",
       "Wednesday    18059\n",
       "Name: track, dtype: int64"
      ]
     },
     "execution_count": 25,
     "metadata": {},
     "output_type": "execute_result"
    }
   ],
   "source": [
    "monday=df.groupby('day')['track'].count() # Подсчёт прослушиваний в каждый из трёх дней\n",
    "monday"
   ]
  },
  {
   "cell_type": "markdown",
   "metadata": {
    "deletable": false,
    "editable": false,
    "id": "cC2tNrlL_Zcu"
   },
   "source": [
    "В среднем пользователи из двух городов менее активны по средам. Но картина может измениться, если рассмотреть каждый город в отдельности."
   ]
  },
  {
   "cell_type": "markdown",
   "metadata": {
    "deletable": false,
    "editable": false,
    "id": "POzs8bGa_Zcu",
    "tags": [
     "start_task"
    ]
   },
   "source": [
    "**Задание 20**\n",
    "\n",
    "\n",
    "Вы видели, как работает группировка по городу и по дням недели. Теперь напишите функцию, которая объединит два эти расчёта.\n",
    "\n",
    "Создайте функцию `number_tracks()`, которая посчитает прослушивания для заданного дня и города. Ей понадобятся два параметра:\n",
    "* день недели,\n",
    "* название города.\n",
    "\n",
    "В функции сохраните в переменную строки исходной таблицы, у которых значение:\n",
    "  * в колонке `day` равно параметру `day`,\n",
    "  * в колонке `city` равно параметру `city`.\n",
    "\n",
    "Для этого примените последовательную фильтрацию с логической индексацией (или сложные логические выражения в одну строку, если вы уже знакомы с ними).\n",
    "\n",
    "Затем посчитайте значения в столбце `user_id` получившейся таблицы. Результат сохраните в новую переменную. Верните эту переменную из функции."
   ]
  },
  {
   "cell_type": "code",
   "execution_count": 26,
   "metadata": {
    "deletable": false,
    "id": "Nz3GdQB1_Zcu"
   },
   "outputs": [],
   "source": [
    "def number_tracks(day, city): # <создание функции number_tracks()> # Объявляется функция с двумя параметрами: day, city.\n",
    "    track_list = (df[(df['day'] == day) & (df['city'] == city)]) # В переменной track_list сохраняются те строки таблицы df, для которых \n",
    "                # значение в столбце 'day' равно параметру day и одновременно значение\n",
    "                # в столбце 'city' равно параметру city (используйте последовательную фильтрацию\n",
    "                # с помощью логической индексации или сложные логические выражения в одну строку, если вы уже знакомы с ними).\n",
    "    track_list_count = track_list['user_id'].count()    # В переменной track_list_count сохраняется число значений столбца 'user_id',\n",
    "                # рассчитанное методом count() для таблицы track_list.\n",
    "    return(track_list_count)  # Функция возвращает число - значение track_list_count.\n",
    "    \n",
    "    # Функция для подсчёта прослушиваний для конкретного города и дня.\n",
    "    # С помощью последовательной фильтрации с логической индексацией она \n",
    "    # сначала получит из исходной таблицы строки с нужным днём,\n",
    "    # затем из результата отфильтрует строки с нужным городом,\n",
    "    # методом count() посчитает количество значений в колонке user_id. \n",
    "    # Это количество функция вернёт в качестве результата"
   ]
  },
  {
   "cell_type": "markdown",
   "metadata": {
    "deletable": false,
    "editable": false,
    "id": "ytf7xFrFJQ2r",
    "tags": [
     "start_task"
    ]
   },
   "source": [
    "**Задание 21**\n",
    "\n",
    "Вызовите `number_tracks()` шесть раз, меняя значение параметров — так, чтобы получить данные для каждого города в каждый из трёх дней."
   ]
  },
  {
   "cell_type": "code",
   "execution_count": 27,
   "metadata": {
    "deletable": false,
    "id": "rJcRATNQ_Zcu"
   },
   "outputs": [
    {
     "data": {
      "text/plain": [
       "15740"
      ]
     },
     "execution_count": 27,
     "metadata": {},
     "output_type": "execute_result"
    }
   ],
   "source": [
    "number_tracks('Monday', 'Moscow') # количество прослушиваний в Москве по понедельникам"
   ]
  },
  {
   "cell_type": "code",
   "execution_count": 22,
   "metadata": {
    "deletable": false,
    "id": "hq_ncZ5T_Zcu"
   },
   "outputs": [
    {
     "data": {
      "text/plain": [
       "5614"
      ]
     },
     "execution_count": 22,
     "metadata": {},
     "output_type": "execute_result"
    }
   ],
   "source": [
    "number_tracks('Monday', 'Saint-Petersburg')# количество прослушиваний в Санкт-Петербурге по понедельникам"
   ]
  },
  {
   "cell_type": "code",
   "execution_count": 23,
   "metadata": {
    "deletable": false,
    "id": "_NTy2VPU_Zcu"
   },
   "outputs": [
    {
     "data": {
      "text/plain": [
       "11056"
      ]
     },
     "execution_count": 23,
     "metadata": {},
     "output_type": "execute_result"
    }
   ],
   "source": [
    "number_tracks('Wednesday', 'Moscow')# количество прослушиваний в Москве по средам"
   ]
  },
  {
   "cell_type": "code",
   "execution_count": 24,
   "metadata": {
    "deletable": false,
    "id": "j2y3TAwo_Zcu"
   },
   "outputs": [
    {
     "data": {
      "text/plain": [
       "7003"
      ]
     },
     "execution_count": 24,
     "metadata": {},
     "output_type": "execute_result"
    }
   ],
   "source": [
    "number_tracks('Wednesday', 'Saint-Petersburg')# количество прослушиваний в Санкт-Петербурге по средам"
   ]
  },
  {
   "cell_type": "code",
   "execution_count": 25,
   "metadata": {
    "deletable": false,
    "id": "vYDw5u_K_Zcu"
   },
   "outputs": [
    {
     "data": {
      "text/plain": [
       "15945"
      ]
     },
     "execution_count": 25,
     "metadata": {},
     "output_type": "execute_result"
    }
   ],
   "source": [
    "number_tracks('Friday', 'Moscow')# количество прослушиваний в Москве по пятницам"
   ]
  },
  {
   "cell_type": "code",
   "execution_count": 26,
   "metadata": {
    "deletable": false,
    "id": "8_yzFtW3_Zcu"
   },
   "outputs": [
    {
     "data": {
      "text/plain": [
       "5895"
      ]
     },
     "execution_count": 26,
     "metadata": {},
     "output_type": "execute_result"
    }
   ],
   "source": [
    "number_tracks('Friday', 'Saint-Petersburg')# количество прослушиваний в Санкт-Петербурге по пятницам"
   ]
  },
  {
   "cell_type": "markdown",
   "metadata": {
    "deletable": false,
    "editable": false,
    "id": "7QXffbO-_Zcu",
    "tags": [
     "start_task"
    ]
   },
   "source": [
    "**Задание 22**\n",
    "\n",
    "Создайте c помощью конструктора `pd.DataFrame` таблицу, где\n",
    "* названия колонок — `['city', 'monday', 'wednesday', 'friday']`;\n",
    "* данные — результаты, которые вы получили с помощью `number_tracks`."
   ]
  },
  {
   "cell_type": "code",
   "execution_count": 27,
   "metadata": {
    "deletable": false,
    "id": "APAcLpOr_Zcu"
   },
   "outputs": [
    {
     "data": {
      "text/html": [
       "<div>\n",
       "<style scoped>\n",
       "    .dataframe tbody tr th:only-of-type {\n",
       "        vertical-align: middle;\n",
       "    }\n",
       "\n",
       "    .dataframe tbody tr th {\n",
       "        vertical-align: top;\n",
       "    }\n",
       "\n",
       "    .dataframe thead th {\n",
       "        text-align: right;\n",
       "    }\n",
       "</style>\n",
       "<table border=\"1\" class=\"dataframe\">\n",
       "  <thead>\n",
       "    <tr style=\"text-align: right;\">\n",
       "      <th></th>\n",
       "      <th>city</th>\n",
       "      <th>monday</th>\n",
       "      <th>wednesday</th>\n",
       "      <th>friday</th>\n",
       "    </tr>\n",
       "  </thead>\n",
       "  <tbody>\n",
       "    <tr>\n",
       "      <th>0</th>\n",
       "      <td>Moscow</td>\n",
       "      <td>15740</td>\n",
       "      <td>11056</td>\n",
       "      <td>15945</td>\n",
       "    </tr>\n",
       "    <tr>\n",
       "      <th>1</th>\n",
       "      <td>Saint-Petersburg</td>\n",
       "      <td>5614</td>\n",
       "      <td>7003</td>\n",
       "      <td>5895</td>\n",
       "    </tr>\n",
       "  </tbody>\n",
       "</table>\n",
       "</div>"
      ],
      "text/plain": [
       "               city  monday  wednesday  friday\n",
       "0            Moscow   15740      11056   15945\n",
       "1  Saint-Petersburg    5614       7003    5895"
      ]
     },
     "execution_count": 27,
     "metadata": {},
     "output_type": "execute_result"
    }
   ],
   "source": [
    "result_table = pd.DataFrame(data = [['Moscow',15740,11056,15945],['Saint-Petersburg',5614 , 7003, 5895]], columns = ['city', 'monday', 'wednesday', 'friday'])# Таблица с результатами\n",
    "result_table"
   ]
  },
  {
   "cell_type": "markdown",
   "metadata": {
    "deletable": false,
    "editable": false,
    "id": "-EgPIHYu_Zcu"
   },
   "source": [
    "**Выводы**\n",
    "\n",
    "Данные показывают разницу поведения пользователей:\n",
    "\n",
    "- В Москве пик прослушиваний приходится на понедельник и пятницу, а в среду заметен спад.\n",
    "- В Петербурге, наоборот, больше слушают музыку по средам. Активность в понедельник и пятницу здесь почти в равной мере уступает среде.\n",
    "\n",
    "Значит, данные говорят в пользу первой гипотезы."
   ]
  },
  {
   "cell_type": "markdown",
   "metadata": {
    "deletable": false,
    "editable": false,
    "id": "atZAxtq4_Zcu"
   },
   "source": [
    "### Музыка в начале и в конце недели"
   ]
  },
  {
   "cell_type": "markdown",
   "metadata": {
    "deletable": false,
    "editable": false,
    "id": "eXrQqXFH_Zcu"
   },
   "source": [
    "Согласно второй гипотезе, утром в понедельник в Москве преобладают одни жанры, а в Петербурге — другие. Так же и вечером пятницы преобладают разные жанры — в зависимости от города."
   ]
  },
  {
   "cell_type": "markdown",
   "metadata": {
    "deletable": false,
    "editable": false,
    "id": "S8UcW6Hw_Zcu",
    "tags": [
     "start_task"
    ]
   },
   "source": [
    "**Задание 23**\n",
    "\n",
    "Сохраните таблицы с данными в две переменные:\n",
    "* по Москве — в `moscow_general`;\n",
    "* по Санкт-Петербургу — в `spb_general`."
   ]
  },
  {
   "cell_type": "code",
   "execution_count": 28,
   "metadata": {
    "deletable": false,
    "id": "qeaFfM_P_Zcu"
   },
   "outputs": [],
   "source": [
    "moscow_general = df[df['city']=='Moscow']# получение таблицы moscow_general из тех строк таблицы df, \n",
    "# для которых значение в столбце 'city' равно 'Moscow'\n"
   ]
  },
  {
   "cell_type": "code",
   "execution_count": 29,
   "metadata": {
    "deletable": false,
    "id": "ORaVRKto_Zcu"
   },
   "outputs": [],
   "source": [
    "spb_general = df[df['city']=='Saint-Petersburg']# получение таблицы spb_general из тех строк таблицы df,\n",
    "# для которых значение в столбце 'city' равно 'Saint-Petersburg'\n"
   ]
  },
  {
   "cell_type": "markdown",
   "metadata": {
    "deletable": false,
    "id": "MEJV-CX2_Zcu",
    "tags": [
     "start_task"
    ]
   },
   "source": [
    "*Задание 24**\n",
    "\n",
    "Создайте функцию `genre_weekday()` с четырьмя параметрами:\n",
    "*таблица (датафрейм) с данными,\n",
    "* день недели,\n",
    "* начальная временная метка в формате 'hh:mm', \n",
    "* последняя временная метка в формате 'hh:mm'.\n",
    "\n",
    "Функция должна вернуть информацию о топ-10 жанров тех треков, которые прослушивали в указанный день, в промежутке между двумя отметками времени."
   ]
  },
  {
   "cell_type": "code",
   "execution_count": 39,
   "metadata": {
    "deletable": false,
    "id": "laJT9BYl_Zcu"
   },
   "outputs": [],
   "source": [
    "def genre_weekday(table, day, time1, time2):\n",
    "    genre_df=table[table['day'] == day]     #последовательная фильтрация # оставляем в genre_df только те строки df, у которых день равен day\n",
    "    genre_df=genre_df[genre_df['time'] < time2] # оставляем в genre_df только те строки genre_df, у которых время меньше time2\n",
    "    genre_df=genre_df[genre_df['time'] > time1] # оставляем в genre_df только те строки genre_df, у которых время больше time1\n",
    "    \n",
    "      # сгруппируем отфильтрованный датафрейм по столбцу с названиями жанров, возьмём столбец genre и посчитаем кол-во строк для каждого жанра методом count()\n",
    "    genre_df_grouped = genre_df.groupby('genre')['genre'].count()\n",
    "      # отсортируем результат по убыванию (чтобы в начале Series оказались самые популярные жанры)\n",
    "    genre_df_sorted = genre_df_grouped.sort_values(ascending=False)\n",
    "      # вернём Series с 10 самыми популярными жанрами в указанный отрезок времени заданного дня\n",
    "    #return genre_df_grouped\n",
    "    #return genre_df_sorted\n",
    "    return(genre_df_sorted.head(10))"
   ]
  },
  {
   "cell_type": "markdown",
   "metadata": {
    "deletable": false,
    "editable": false,
    "id": "la2s2_PF_Zcu",
    "tags": [
     "start_task"
    ]
   },
   "source": [
    "**Задание 25**\n",
    "\n",
    "\n",
    "Cравните результаты функции `genre_weekday()` для Москвы и Санкт-Петербурга в понедельник утром (с 7:00 до 11:00) и в пятницу вечером (с 17:00 до 23:00):"
   ]
  },
  {
   "cell_type": "code",
   "execution_count": 31,
   "metadata": {
    "deletable": false,
    "id": "yz7itPUQ_Zcu"
   },
   "outputs": [
    {
     "data": {
      "text/plain": [
       "genre\n",
       "pop            781\n",
       "dance          549\n",
       "electronic     480\n",
       "rock           474\n",
       "hiphop         286\n",
       "ruspop         186\n",
       "world          181\n",
       "rusrap         175\n",
       "alternative    164\n",
       "unknown        161\n",
       "Name: genre, dtype: int64"
      ]
     },
     "execution_count": 31,
     "metadata": {},
     "output_type": "execute_result"
    }
   ],
   "source": [
    "genre_weekday(moscow_general, 'Monday', '07:00', '11:00') # вызов функции для утра понедельника в Москве (вместо df — таблица moscow_general)\n",
    "# объекты, хранящие время, являются строками и сравниваются как строки\n",
    "# пример вызова: genre_weekday(moscow_general, 'Monday', '07:00', '11:00')"
   ]
  },
  {
   "cell_type": "code",
   "execution_count": 32,
   "metadata": {
    "deletable": false,
    "id": "kwUcHPdy_Zcu"
   },
   "outputs": [
    {
     "data": {
      "text/plain": [
       "genre\n",
       "pop            218\n",
       "dance          182\n",
       "rock           162\n",
       "electronic     147\n",
       "hiphop          80\n",
       "ruspop          64\n",
       "alternative     58\n",
       "rusrap          55\n",
       "jazz            44\n",
       "classical       40\n",
       "Name: genre, dtype: int64"
      ]
     },
     "execution_count": 32,
     "metadata": {},
     "output_type": "execute_result"
    }
   ],
   "source": [
    "genre_weekday(spb_general, 'Monday', '07:00', '11:00') # вызов функции для утра понедельника в Петербурге (вместо df — таблица spb_general)"
   ]
  },
  {
   "cell_type": "code",
   "execution_count": 33,
   "metadata": {
    "deletable": false,
    "id": "EzXVRE1o_Zcu"
   },
   "outputs": [
    {
     "data": {
      "text/plain": [
       "genre\n",
       "pop            713\n",
       "rock           517\n",
       "dance          495\n",
       "electronic     482\n",
       "hiphop         273\n",
       "world          208\n",
       "ruspop         170\n",
       "alternative    163\n",
       "classical      163\n",
       "rusrap         142\n",
       "Name: genre, dtype: int64"
      ]
     },
     "execution_count": 33,
     "metadata": {},
     "output_type": "execute_result"
    }
   ],
   "source": [
    "genre_weekday(moscow_general, 'Friday', '17:00', '23:00') # вызов функции для вечера пятницы в Москве"
   ]
  },
  {
   "cell_type": "code",
   "execution_count": 34,
   "metadata": {
    "deletable": false,
    "id": "JZaEKu5v_Zcu"
   },
   "outputs": [
    {
     "data": {
      "text/plain": [
       "genre\n",
       "pop            256\n",
       "electronic     216\n",
       "rock           216\n",
       "dance          210\n",
       "hiphop          97\n",
       "alternative     63\n",
       "jazz            61\n",
       "classical       60\n",
       "rusrap          59\n",
       "world           54\n",
       "Name: genre, dtype: int64"
      ]
     },
     "execution_count": 34,
     "metadata": {},
     "output_type": "execute_result"
    }
   ],
   "source": [
    "genre_weekday(spb_general, 'Friday', '17:00', '23:00') # вызов функции для вечера пятницы в Петербурге"
   ]
  },
  {
   "cell_type": "markdown",
   "metadata": {
    "deletable": false,
    "editable": false,
    "id": "wrCe4MNX_Zcu"
   },
   "source": [
    "**Выводы**\n",
    "\n",
    "Если сравнить топ-10 жанров в понедельник утром, можно сделать такие выводы:\n",
    "\n",
    "1. В Москве и Петербурге слушают похожую музыку. Единственное отличие — в московский рейтинг вошёл жанр “world”, а в петербургский — джаз и классика.\n",
    "\n",
    "2. В Москве пропущенных значений оказалось так много, что значение `'unknown'` заняло десятое место среди самых популярных жанров. Значит, пропущенные значения занимают существенную долю в данных и угрожают достоверности исследования.\n",
    "\n",
    "Вечер пятницы не меняет эту картину. Некоторые жанры поднимаются немного выше, другие спускаются, но в целом топ-10 остаётся тем же самым.\n",
    "\n",
    "Таким образом, вторая гипотеза подтвердилась лишь частично:\n",
    "* Пользователи слушают похожую музыку в начале недели и в конце.\n",
    "* Разница между Москвой и Петербургом не слишком выражена. В Москве чаще слушают русскую популярную музыку, в Петербурге — джаз.\n",
    "\n",
    "Однако пропуски в данных ставят под сомнение этот результат. В Москве их так много, что рейтинг топ-10 мог бы выглядеть иначе, если бы не утерянные  данные о жанрах."
   ]
  },
  {
   "cell_type": "markdown",
   "metadata": {
    "deletable": false,
    "editable": false,
    "id": "JolODAqr_Zcu"
   },
   "source": [
    "### Жанровые предпочтения в Москве и Петербурге\n",
    "\n",
    "Гипотеза: Петербург — столица рэпа, музыку этого жанра там слушают чаще, чем в Москве.  А Москва — город контрастов, в котором, тем не менее, преобладает поп-музыка."
   ]
  },
  {
   "cell_type": "markdown",
   "metadata": {
    "deletable": false,
    "editable": false,
    "id": "DlegSvaT_Zcu",
    "tags": [
     "start_task"
    ]
   },
   "source": [
    "**Задание 26**\n",
    "\n",
    "Сгруппируйте таблицу `moscow_general` по жанру и посчитайте прослушивания треков каждого жанра методом `count()`. Затем отсортируйте результат в порядке убывания и сохраните его в таблице `moscow_genres`."
   ]
  },
  {
   "cell_type": "code",
   "execution_count": 35,
   "metadata": {
    "deletable": false,
    "id": "r19lIPke_Zcu"
   },
   "outputs": [],
   "source": [
    "# одной строкой: группировка таблицы moscow_general по столбцу 'genre', \n",
    "# подсчёт числа значений 'genre' в этой группировке методом count(), \n",
    "# сортировка получившегося Series в порядке убывания и сохранение в moscow_genres\n",
    "moscow_genres = moscow_general.groupby('genre')['genre'].count().sort_values(ascending=False)"
   ]
  },
  {
   "cell_type": "markdown",
   "metadata": {
    "deletable": false,
    "editable": false,
    "id": "6kMuomxTiIr8",
    "tags": [
     "start_task"
    ]
   },
   "source": [
    "**Задание 27**\n",
    "\n",
    "Выведите на экран первые десять строк `moscow_genres`:"
   ]
  },
  {
   "cell_type": "code",
   "execution_count": 36,
   "metadata": {
    "deletable": false,
    "id": "WhCSooF8_Zcv"
   },
   "outputs": [
    {
     "data": {
      "text/plain": [
       "genre\n",
       "pop            5892\n",
       "dance          4435\n",
       "rock           3965\n",
       "electronic     3786\n",
       "hiphop         2096\n",
       "classical      1616\n",
       "world          1432\n",
       "alternative    1379\n",
       "ruspop         1372\n",
       "rusrap         1161\n",
       "Name: genre, dtype: int64"
      ]
     },
     "execution_count": 36,
     "metadata": {},
     "output_type": "execute_result"
    }
   ],
   "source": [
    "moscow_genres.head(10)"
   ]
  },
  {
   "cell_type": "markdown",
   "metadata": {
    "deletable": false,
    "editable": false,
    "id": "cnPG2vnN_Zcv",
    "tags": [
     "start_task"
    ]
   },
   "source": [
    "**Задание 28**\n",
    "\n",
    "\n",
    "Теперь повторите то же и для Петербурга.\n",
    "\n",
    "Сгруппируйте таблицу `spb_general` по жанру. Посчитайте прослушивания треков каждого жанра. Результат отсортируйте в порядке убывания и сохраните в таблице `spb_genres`:\n"
   ]
  },
  {
   "cell_type": "code",
   "execution_count": 37,
   "metadata": {
    "deletable": false,
    "id": "gluLIpE7_Zcv"
   },
   "outputs": [],
   "source": [
    "# одной строкой: группировка таблицы spb_general по столбцу 'genre', \n",
    "# подсчёт числа значений 'genre' в этой группировке методом count(), \n",
    "# сортировка получившегося Series в порядке убывания и сохранение в spb_genres\n",
    "spb_genres = spb_general.groupby('genre')['genre'].count().sort_values(ascending=False)"
   ]
  },
  {
   "cell_type": "markdown",
   "metadata": {
    "deletable": false,
    "editable": false,
    "id": "5Doha_ODgyQ8",
    "tags": [
     "start_task"
    ]
   },
   "source": [
    "**Задание 29**\n",
    "\n",
    "Выведите на экран первые десять строк `spb_genres`:"
   ]
  },
  {
   "cell_type": "code",
   "execution_count": 38,
   "metadata": {
    "deletable": false,
    "id": "uaGJHjVU_Zcv"
   },
   "outputs": [
    {
     "data": {
      "text/plain": [
       "genre\n",
       "pop            2431\n",
       "dance          1932\n",
       "rock           1879\n",
       "electronic     1736\n",
       "hiphop          960\n",
       "alternative     649\n",
       "classical       646\n",
       "rusrap          564\n",
       "ruspop          538\n",
       "world           515\n",
       "Name: genre, dtype: int64"
      ]
     },
     "execution_count": 38,
     "metadata": {},
     "output_type": "execute_result"
    }
   ],
   "source": [
    "# просмотр первых 10 строк spb_genres\n",
    "spb_genres.head(10)"
   ]
  },
  {
   "cell_type": "markdown",
   "metadata": {
    "deletable": false,
    "editable": false,
    "id": "RY51YJYu_Zcv"
   },
   "source": [
    "**Выводы**"
   ]
  },
  {
   "cell_type": "markdown",
   "metadata": {
    "deletable": false,
    "editable": false,
    "id": "nVhnJEm__Zcv"
   },
   "source": [
    "Гипотеза частично подтвердилась:\n",
    "* Поп-музыка — самый популярный жанр в Москве, как и предполагала гипотеза. Более того, в топ-10 жанров встречается близкий жанр — русская популярная музыка.\n",
    "* Вопреки ожиданиям, рэп одинаково популярен в Москве и Петербурге. \n"
   ]
  },
  {
   "cell_type": "markdown",
   "metadata": {
    "deletable": false,
    "editable": false,
    "id": "ykKQ0N65_Zcv"
   },
   "source": [
    "## Итоги исследования"
   ]
  },
  {
   "cell_type": "markdown",
   "metadata": {
    "deletable": false,
    "editable": false,
    "id": "tjUwbHb3_Zcv"
   },
   "source": [
    "Вы проверили три гипотезы и установили:\n",
    "\n",
    "1. День недели по-разному влияет на активность пользователей в Москве и Петербурге. \n",
    "\n",
    "Первая гипотеза полностью подтвердилась.\n",
    "\n",
    "2. Музыкальные предпочтения не сильно меняются в течение недели — будь то Москва или Петербург. Небольшие различия заметны в начале недели, по понедельникам:\n",
    "* в Москве слушают музыку жанра “world”,\n",
    "* в Петербурге — джаз и классику.\n",
    "\n",
    "Таким образом, вторая гипотеза подтвердилась лишь отчасти. Этот результат мог оказаться иным, если бы не пропуски в данных.\n",
    "\n",
    "3. Во вкусах пользователей Москвы и Петербурга больше общего чем различий. Вопреки ожиданиям, предпочтения жанров в Петербурге напоминают московские.\n",
    "\n",
    "Третья гипотеза не подтвердилась. Если различия в предпочтениях и существуют, на основной массе пользователей они незаметны.\n",
    "\n",
    "**На практике исследования содержат проверки статистических гипотез.**\n",
    "Из данных одного сервиса не всегда можно сделать вывод о всех жителях города.\n",
    "Проверки статистических гипотез покажут, насколько они достоверны, исходя из имеющихся данных. \n",
    "С методами проверок гипотез вы ещё познакомитесь в следующих темах."
   ]
  }
 ],
 "metadata": {
  "ExecuteTimeLog": [
   {
    "duration": 51,
    "start_time": "2023-02-02T07:31:21.607Z"
   },
   {
    "duration": 0,
    "start_time": "2023-02-02T07:31:21.661Z"
   },
   {
    "duration": 0,
    "start_time": "2023-02-02T07:31:21.662Z"
   },
   {
    "duration": 0,
    "start_time": "2023-02-02T07:31:21.663Z"
   },
   {
    "duration": 0,
    "start_time": "2023-02-02T07:31:21.664Z"
   },
   {
    "duration": 0,
    "start_time": "2023-02-02T07:31:21.666Z"
   },
   {
    "duration": 0,
    "start_time": "2023-02-02T07:31:21.667Z"
   },
   {
    "duration": 0,
    "start_time": "2023-02-02T07:31:21.668Z"
   },
   {
    "duration": 0,
    "start_time": "2023-02-02T07:31:21.670Z"
   },
   {
    "duration": 0,
    "start_time": "2023-02-02T07:31:21.671Z"
   },
   {
    "duration": 0,
    "start_time": "2023-02-02T07:31:21.673Z"
   },
   {
    "duration": 0,
    "start_time": "2023-02-02T07:31:21.674Z"
   },
   {
    "duration": 0,
    "start_time": "2023-02-02T07:31:21.676Z"
   },
   {
    "duration": 0,
    "start_time": "2023-02-02T07:31:21.677Z"
   },
   {
    "duration": 0,
    "start_time": "2023-02-02T07:31:21.678Z"
   },
   {
    "duration": 0,
    "start_time": "2023-02-02T07:31:21.679Z"
   },
   {
    "duration": 0,
    "start_time": "2023-02-02T07:31:21.681Z"
   },
   {
    "duration": 0,
    "start_time": "2023-02-02T07:31:21.682Z"
   },
   {
    "duration": 0,
    "start_time": "2023-02-02T07:31:21.683Z"
   },
   {
    "duration": 0,
    "start_time": "2023-02-02T07:31:21.684Z"
   },
   {
    "duration": 0,
    "start_time": "2023-02-02T07:31:21.684Z"
   },
   {
    "duration": 0,
    "start_time": "2023-02-02T07:31:21.685Z"
   },
   {
    "duration": 0,
    "start_time": "2023-02-02T07:31:21.686Z"
   },
   {
    "duration": 0,
    "start_time": "2023-02-02T07:31:21.687Z"
   },
   {
    "duration": 0,
    "start_time": "2023-02-02T07:31:21.688Z"
   },
   {
    "duration": 0,
    "start_time": "2023-02-02T07:31:21.689Z"
   },
   {
    "duration": 0,
    "start_time": "2023-02-02T07:31:21.690Z"
   },
   {
    "duration": 0,
    "start_time": "2023-02-02T07:31:21.690Z"
   },
   {
    "duration": 0,
    "start_time": "2023-02-02T07:31:21.691Z"
   },
   {
    "duration": 0,
    "start_time": "2023-02-02T07:31:21.758Z"
   },
   {
    "duration": 0,
    "start_time": "2023-02-02T07:31:21.759Z"
   },
   {
    "duration": 0,
    "start_time": "2023-02-02T07:31:21.760Z"
   },
   {
    "duration": 0,
    "start_time": "2023-02-02T07:31:21.761Z"
   },
   {
    "duration": 0,
    "start_time": "2023-02-02T07:31:21.762Z"
   },
   {
    "duration": 0,
    "start_time": "2023-02-02T07:31:21.764Z"
   },
   {
    "duration": 3,
    "start_time": "2023-02-02T07:31:21.766Z"
   },
   {
    "duration": 5,
    "start_time": "2023-02-02T07:32:37.824Z"
   },
   {
    "duration": 66,
    "start_time": "2023-02-02T07:32:43.832Z"
   },
   {
    "duration": 407,
    "start_time": "2023-02-02T07:32:50.225Z"
   },
   {
    "duration": 157,
    "start_time": "2023-02-02T07:32:52.881Z"
   },
   {
    "duration": 15,
    "start_time": "2023-02-02T07:32:59.189Z"
   },
   {
    "duration": 26,
    "start_time": "2023-02-02T07:33:16.326Z"
   },
   {
    "duration": 29,
    "start_time": "2023-02-02T07:33:23.112Z"
   },
   {
    "duration": 3,
    "start_time": "2023-02-02T07:41:43.945Z"
   },
   {
    "duration": 11,
    "start_time": "2023-02-02T07:43:32.119Z"
   },
   {
    "duration": 4,
    "start_time": "2023-02-02T07:43:39.452Z"
   },
   {
    "duration": 25,
    "start_time": "2023-02-02T07:48:37.952Z"
   },
   {
    "duration": 35,
    "start_time": "2023-02-02T07:48:44.658Z"
   },
   {
    "duration": 24,
    "start_time": "2023-02-02T07:49:00.239Z"
   },
   {
    "duration": 23,
    "start_time": "2023-02-02T07:50:35.150Z"
   },
   {
    "duration": 20,
    "start_time": "2023-02-02T07:58:37.948Z"
   },
   {
    "duration": 23,
    "start_time": "2023-02-02T07:58:54.625Z"
   },
   {
    "duration": 59,
    "start_time": "2023-02-02T07:59:12.581Z"
   },
   {
    "duration": 70,
    "start_time": "2023-02-02T08:00:33.526Z"
   },
   {
    "duration": 61,
    "start_time": "2023-02-02T08:00:41.335Z"
   },
   {
    "duration": 58,
    "start_time": "2023-02-02T08:01:33.705Z"
   },
   {
    "duration": 51,
    "start_time": "2023-02-02T08:02:33.189Z"
   },
   {
    "duration": 422,
    "start_time": "2023-02-02T08:02:39.866Z"
   },
   {
    "duration": 156,
    "start_time": "2023-02-02T08:02:40.290Z"
   },
   {
    "duration": 22,
    "start_time": "2023-02-02T08:02:40.448Z"
   },
   {
    "duration": 46,
    "start_time": "2023-02-02T08:02:40.472Z"
   },
   {
    "duration": 3,
    "start_time": "2023-02-02T08:02:40.520Z"
   },
   {
    "duration": 26,
    "start_time": "2023-02-02T08:02:40.525Z"
   },
   {
    "duration": 14,
    "start_time": "2023-02-02T08:02:40.553Z"
   },
   {
    "duration": 7,
    "start_time": "2023-02-02T08:02:40.568Z"
   },
   {
    "duration": 25,
    "start_time": "2023-02-02T08:02:40.576Z"
   },
   {
    "duration": 22,
    "start_time": "2023-02-02T08:02:40.603Z"
   },
   {
    "duration": 40,
    "start_time": "2023-02-02T08:02:40.627Z"
   },
   {
    "duration": 66,
    "start_time": "2023-02-02T08:02:50.486Z"
   },
   {
    "duration": 97,
    "start_time": "2023-02-02T08:03:01.637Z"
   },
   {
    "duration": 60,
    "start_time": "2023-02-02T08:06:30.529Z"
   },
   {
    "duration": 58,
    "start_time": "2023-02-02T08:08:52.422Z"
   },
   {
    "duration": 83,
    "start_time": "2023-02-02T08:09:04.295Z"
   },
   {
    "duration": 385,
    "start_time": "2023-02-02T08:21:09.351Z"
   },
   {
    "duration": 146,
    "start_time": "2023-02-02T08:21:09.738Z"
   },
   {
    "duration": 16,
    "start_time": "2023-02-02T08:21:09.886Z"
   },
   {
    "duration": 31,
    "start_time": "2023-02-02T08:21:09.904Z"
   },
   {
    "duration": 11,
    "start_time": "2023-02-02T08:21:09.937Z"
   },
   {
    "duration": 6,
    "start_time": "2023-02-02T08:21:09.950Z"
   },
   {
    "duration": 12,
    "start_time": "2023-02-02T08:21:09.958Z"
   },
   {
    "duration": 5,
    "start_time": "2023-02-02T08:21:09.971Z"
   },
   {
    "duration": 23,
    "start_time": "2023-02-02T08:21:09.977Z"
   },
   {
    "duration": 18,
    "start_time": "2023-02-02T08:21:10.003Z"
   },
   {
    "duration": 46,
    "start_time": "2023-02-02T08:21:10.022Z"
   },
   {
    "duration": 62,
    "start_time": "2023-02-02T08:21:14.085Z"
   },
   {
    "duration": 112,
    "start_time": "2023-02-02T08:22:46.589Z"
   },
   {
    "duration": 61,
    "start_time": "2023-02-02T08:22:57.722Z"
   },
   {
    "duration": 59,
    "start_time": "2023-02-02T08:23:10.704Z"
   },
   {
    "duration": 111,
    "start_time": "2023-02-02T08:23:40.566Z"
   },
   {
    "duration": 70,
    "start_time": "2023-02-02T08:24:01.338Z"
   },
   {
    "duration": 122,
    "start_time": "2023-02-02T08:25:04.063Z"
   },
   {
    "duration": 107,
    "start_time": "2023-02-02T08:25:36.397Z"
   },
   {
    "duration": 59,
    "start_time": "2023-02-02T08:25:44.390Z"
   },
   {
    "duration": 72,
    "start_time": "2023-02-02T08:26:33.462Z"
   },
   {
    "duration": 86,
    "start_time": "2023-02-02T08:28:16.987Z"
   },
   {
    "duration": 75,
    "start_time": "2023-02-02T08:29:19.697Z"
   },
   {
    "duration": 47,
    "start_time": "2023-02-02T08:29:32.306Z"
   },
   {
    "duration": 408,
    "start_time": "2023-02-02T08:31:24.828Z"
   },
   {
    "duration": 149,
    "start_time": "2023-02-02T08:31:25.238Z"
   },
   {
    "duration": 20,
    "start_time": "2023-02-02T08:31:25.393Z"
   },
   {
    "duration": 42,
    "start_time": "2023-02-02T08:31:25.416Z"
   },
   {
    "duration": 12,
    "start_time": "2023-02-02T08:31:25.460Z"
   },
   {
    "duration": 20,
    "start_time": "2023-02-02T08:31:25.474Z"
   },
   {
    "duration": 24,
    "start_time": "2023-02-02T08:31:25.496Z"
   },
   {
    "duration": 10,
    "start_time": "2023-02-02T08:31:25.522Z"
   },
   {
    "duration": 33,
    "start_time": "2023-02-02T08:31:25.534Z"
   },
   {
    "duration": 30,
    "start_time": "2023-02-02T08:31:25.569Z"
   },
   {
    "duration": 48,
    "start_time": "2023-02-02T08:31:28.814Z"
   },
   {
    "duration": 82,
    "start_time": "2023-02-02T08:31:41.955Z"
   },
   {
    "duration": 367,
    "start_time": "2023-02-02T08:37:30.773Z"
   },
   {
    "duration": 155,
    "start_time": "2023-02-02T08:37:31.141Z"
   },
   {
    "duration": 16,
    "start_time": "2023-02-02T08:37:31.298Z"
   },
   {
    "duration": 39,
    "start_time": "2023-02-02T08:37:31.316Z"
   },
   {
    "duration": 2,
    "start_time": "2023-02-02T08:37:31.357Z"
   },
   {
    "duration": 17,
    "start_time": "2023-02-02T08:37:31.361Z"
   },
   {
    "duration": 31,
    "start_time": "2023-02-02T08:37:31.380Z"
   },
   {
    "duration": 26,
    "start_time": "2023-02-02T08:37:31.413Z"
   },
   {
    "duration": 38,
    "start_time": "2023-02-02T08:37:31.440Z"
   },
   {
    "duration": 14,
    "start_time": "2023-02-02T08:37:37.364Z"
   },
   {
    "duration": 43,
    "start_time": "2023-02-02T08:37:41.129Z"
   },
   {
    "duration": 80,
    "start_time": "2023-02-02T08:38:08.111Z"
   },
   {
    "duration": 73,
    "start_time": "2023-02-02T08:38:17.476Z"
   },
   {
    "duration": 68,
    "start_time": "2023-02-02T08:38:20.986Z"
   },
   {
    "duration": 52,
    "start_time": "2023-02-02T08:38:27.380Z"
   },
   {
    "duration": 1017,
    "start_time": "2023-02-02T08:42:17.015Z"
   },
   {
    "duration": 79,
    "start_time": "2023-02-02T08:44:00.301Z"
   },
   {
    "duration": 31,
    "start_time": "2023-02-02T08:50:20.898Z"
   },
   {
    "duration": 75,
    "start_time": "2023-02-02T08:50:26.435Z"
   },
   {
    "duration": 3,
    "start_time": "2023-02-02T08:50:32.513Z"
   },
   {
    "duration": 196,
    "start_time": "2023-02-02T08:50:32.518Z"
   },
   {
    "duration": 11,
    "start_time": "2023-02-02T08:50:32.716Z"
   },
   {
    "duration": 68,
    "start_time": "2023-02-02T08:50:32.729Z"
   },
   {
    "duration": 3,
    "start_time": "2023-02-02T08:50:32.801Z"
   },
   {
    "duration": 18,
    "start_time": "2023-02-02T08:50:32.806Z"
   },
   {
    "duration": 17,
    "start_time": "2023-02-02T08:50:32.826Z"
   },
   {
    "duration": 6,
    "start_time": "2023-02-02T08:50:32.845Z"
   },
   {
    "duration": 52,
    "start_time": "2023-02-02T08:50:32.854Z"
   },
   {
    "duration": 23,
    "start_time": "2023-02-02T08:50:32.908Z"
   },
   {
    "duration": 50,
    "start_time": "2023-02-02T08:50:32.949Z"
   },
   {
    "duration": 115,
    "start_time": "2023-02-02T08:50:33.001Z"
   },
   {
    "duration": 28,
    "start_time": "2023-02-02T08:50:42.240Z"
   },
   {
    "duration": 80,
    "start_time": "2023-02-02T08:50:45.452Z"
   },
   {
    "duration": 101,
    "start_time": "2023-02-02T08:51:39.482Z"
   },
   {
    "duration": 58,
    "start_time": "2023-02-02T08:51:49.843Z"
   },
   {
    "duration": 728,
    "start_time": "2023-02-02T09:02:02.970Z"
   },
   {
    "duration": 11,
    "start_time": "2023-02-02T09:03:00.435Z"
   },
   {
    "duration": 9,
    "start_time": "2023-02-02T09:24:11.675Z"
   },
   {
    "duration": 10,
    "start_time": "2023-02-02T09:25:25.926Z"
   },
   {
    "duration": 2,
    "start_time": "2023-02-02T09:25:39.674Z"
   },
   {
    "duration": 7,
    "start_time": "2023-02-02T09:25:53.497Z"
   },
   {
    "duration": 7,
    "start_time": "2023-02-02T09:25:59.265Z"
   },
   {
    "duration": 8,
    "start_time": "2023-02-02T09:26:07.839Z"
   },
   {
    "duration": 7,
    "start_time": "2023-02-02T09:26:55.814Z"
   },
   {
    "duration": 8,
    "start_time": "2023-02-02T09:27:28.539Z"
   },
   {
    "duration": 35,
    "start_time": "2023-02-02T09:28:51.623Z"
   },
   {
    "duration": 28,
    "start_time": "2023-02-02T09:29:08.224Z"
   },
   {
    "duration": 30,
    "start_time": "2023-02-02T09:29:16.842Z"
   },
   {
    "duration": 30,
    "start_time": "2023-02-02T09:29:20.381Z"
   },
   {
    "duration": 83,
    "start_time": "2023-02-02T09:29:54.298Z"
   },
   {
    "duration": 63,
    "start_time": "2023-02-02T09:39:03.419Z"
   },
   {
    "duration": 3,
    "start_time": "2023-02-02T14:39:23.150Z"
   },
   {
    "duration": 3,
    "start_time": "2023-02-02T14:39:33.424Z"
   },
   {
    "duration": 197,
    "start_time": "2023-02-02T14:39:33.430Z"
   },
   {
    "duration": 12,
    "start_time": "2023-02-02T14:39:33.630Z"
   },
   {
    "duration": 38,
    "start_time": "2023-02-02T14:39:33.643Z"
   },
   {
    "duration": 3,
    "start_time": "2023-02-02T14:39:33.682Z"
   },
   {
    "duration": 12,
    "start_time": "2023-02-02T14:39:33.687Z"
   },
   {
    "duration": 20,
    "start_time": "2023-02-02T14:39:33.701Z"
   },
   {
    "duration": 47,
    "start_time": "2023-02-02T14:39:33.722Z"
   },
   {
    "duration": 35,
    "start_time": "2023-02-02T14:39:33.771Z"
   },
   {
    "duration": 28,
    "start_time": "2023-02-02T14:39:33.808Z"
   },
   {
    "duration": 56,
    "start_time": "2023-02-02T14:39:33.837Z"
   },
   {
    "duration": 81,
    "start_time": "2023-02-02T14:39:40.203Z"
   },
   {
    "duration": 58,
    "start_time": "2023-02-02T14:40:31.278Z"
   },
   {
    "duration": 56,
    "start_time": "2023-02-02T14:41:19.236Z"
   },
   {
    "duration": 366,
    "start_time": "2023-02-03T08:44:32.038Z"
   },
   {
    "duration": 570,
    "start_time": "2023-02-03T08:44:32.407Z"
   },
   {
    "duration": 15,
    "start_time": "2023-02-03T08:44:32.979Z"
   },
   {
    "duration": 33,
    "start_time": "2023-02-03T08:44:32.995Z"
   },
   {
    "duration": 3,
    "start_time": "2023-02-03T08:44:33.030Z"
   },
   {
    "duration": 10,
    "start_time": "2023-02-03T08:44:33.034Z"
   },
   {
    "duration": 19,
    "start_time": "2023-02-03T08:44:33.045Z"
   },
   {
    "duration": 8,
    "start_time": "2023-02-03T08:44:33.066Z"
   },
   {
    "duration": 37,
    "start_time": "2023-02-03T08:44:33.075Z"
   },
   {
    "duration": 19,
    "start_time": "2023-02-03T08:44:33.114Z"
   },
   {
    "duration": 47,
    "start_time": "2023-02-03T08:44:33.135Z"
   },
   {
    "duration": 105,
    "start_time": "2023-02-03T08:44:33.184Z"
   },
   {
    "duration": 74,
    "start_time": "2023-02-03T08:44:33.291Z"
   },
   {
    "duration": 70,
    "start_time": "2023-02-03T08:44:33.366Z"
   },
   {
    "duration": 52,
    "start_time": "2023-02-03T08:44:38.246Z"
   },
   {
    "duration": 76,
    "start_time": "2023-02-03T08:47:50.116Z"
   },
   {
    "duration": 49,
    "start_time": "2023-02-03T08:48:28.153Z"
   },
   {
    "duration": 51,
    "start_time": "2023-02-03T08:52:35.143Z"
   },
   {
    "duration": 69,
    "start_time": "2023-02-03T08:52:41.711Z"
   },
   {
    "duration": 6,
    "start_time": "2023-02-03T08:52:49.838Z"
   },
   {
    "duration": 3,
    "start_time": "2023-02-03T08:53:04.054Z"
   },
   {
    "duration": 12,
    "start_time": "2023-02-03T08:53:09.381Z"
   },
   {
    "duration": 13,
    "start_time": "2023-02-03T08:54:31.931Z"
   },
   {
    "duration": 13,
    "start_time": "2023-02-03T08:55:10.706Z"
   },
   {
    "duration": 4,
    "start_time": "2023-02-03T09:06:13.528Z"
   },
   {
    "duration": 4,
    "start_time": "2023-02-03T09:06:59.892Z"
   },
   {
    "duration": 3,
    "start_time": "2023-02-03T09:07:53.323Z"
   },
   {
    "duration": 4,
    "start_time": "2023-02-03T09:11:58.146Z"
   },
   {
    "duration": 17,
    "start_time": "2023-02-03T09:13:20.223Z"
   },
   {
    "duration": 13,
    "start_time": "2023-02-03T09:14:10.402Z"
   },
   {
    "duration": 4,
    "start_time": "2023-02-03T09:21:10.535Z"
   },
   {
    "duration": 14,
    "start_time": "2023-02-03T09:21:12.518Z"
   },
   {
    "duration": 7,
    "start_time": "2023-02-03T09:21:30.001Z"
   },
   {
    "duration": 15,
    "start_time": "2023-02-03T09:21:56.285Z"
   },
   {
    "duration": 57,
    "start_time": "2023-02-03T09:22:03.250Z"
   },
   {
    "duration": 4,
    "start_time": "2023-02-03T09:23:21.923Z"
   },
   {
    "duration": 6,
    "start_time": "2023-02-03T09:23:26.334Z"
   },
   {
    "duration": 14,
    "start_time": "2023-02-03T09:23:28.722Z"
   },
   {
    "duration": 3,
    "start_time": "2023-02-03T09:24:20.079Z"
   },
   {
    "duration": 14,
    "start_time": "2023-02-03T09:24:30.454Z"
   },
   {
    "duration": 4,
    "start_time": "2023-02-03T09:26:03.096Z"
   },
   {
    "duration": 14,
    "start_time": "2023-02-03T09:26:10.497Z"
   },
   {
    "duration": 5,
    "start_time": "2023-02-03T09:26:16.581Z"
   },
   {
    "duration": 13,
    "start_time": "2023-02-03T09:26:19.572Z"
   },
   {
    "duration": 4,
    "start_time": "2023-02-03T09:26:58.422Z"
   },
   {
    "duration": 17,
    "start_time": "2023-02-03T09:26:59.996Z"
   },
   {
    "duration": 3,
    "start_time": "2023-02-03T09:27:59.728Z"
   },
   {
    "duration": 16,
    "start_time": "2023-02-03T09:28:02.363Z"
   },
   {
    "duration": 3,
    "start_time": "2023-02-03T09:29:18.985Z"
   },
   {
    "duration": 13,
    "start_time": "2023-02-03T09:29:21.141Z"
   },
   {
    "duration": 4,
    "start_time": "2023-02-03T09:29:34.329Z"
   },
   {
    "duration": 13,
    "start_time": "2023-02-03T09:29:35.185Z"
   },
   {
    "duration": 6,
    "start_time": "2023-02-03T09:29:52.793Z"
   },
   {
    "duration": 13,
    "start_time": "2023-02-03T09:29:54.841Z"
   },
   {
    "duration": 4,
    "start_time": "2023-02-03T09:30:00.693Z"
   },
   {
    "duration": 16,
    "start_time": "2023-02-03T09:30:01.812Z"
   },
   {
    "duration": 89,
    "start_time": "2023-02-03T09:30:08.756Z"
   },
   {
    "duration": 3,
    "start_time": "2023-02-03T09:34:41.891Z"
   },
   {
    "duration": 19,
    "start_time": "2023-02-03T09:34:43.983Z"
   },
   {
    "duration": 3,
    "start_time": "2023-02-03T09:34:54.782Z"
   },
   {
    "duration": 4,
    "start_time": "2023-02-03T09:35:04.248Z"
   },
   {
    "duration": 17,
    "start_time": "2023-02-03T09:35:05.373Z"
   },
   {
    "duration": 3,
    "start_time": "2023-02-03T09:35:31.523Z"
   },
   {
    "duration": 13,
    "start_time": "2023-02-03T09:35:32.706Z"
   },
   {
    "duration": 3,
    "start_time": "2023-02-03T09:35:54.497Z"
   },
   {
    "duration": 21,
    "start_time": "2023-02-03T09:35:55.087Z"
   },
   {
    "duration": 30,
    "start_time": "2023-02-03T09:38:43.061Z"
   },
   {
    "duration": 31,
    "start_time": "2023-02-03T09:39:59.688Z"
   },
   {
    "duration": 17,
    "start_time": "2023-02-03T09:40:02.863Z"
   },
   {
    "duration": 17,
    "start_time": "2023-02-03T09:40:04.304Z"
   },
   {
    "duration": 19,
    "start_time": "2023-02-03T09:40:05.697Z"
   },
   {
    "duration": 19,
    "start_time": "2023-02-03T09:40:07.133Z"
   },
   {
    "duration": 4,
    "start_time": "2023-02-03T09:40:23.852Z"
   },
   {
    "duration": 15,
    "start_time": "2023-02-03T09:40:26.137Z"
   },
   {
    "duration": 17,
    "start_time": "2023-02-03T09:40:26.861Z"
   },
   {
    "duration": 22,
    "start_time": "2023-02-03T09:40:27.258Z"
   },
   {
    "duration": 21,
    "start_time": "2023-02-03T09:40:27.612Z"
   },
   {
    "duration": 25,
    "start_time": "2023-02-03T09:40:27.891Z"
   },
   {
    "duration": 14,
    "start_time": "2023-02-03T09:40:28.241Z"
   },
   {
    "duration": 5,
    "start_time": "2023-02-03T09:41:17.291Z"
   },
   {
    "duration": 20,
    "start_time": "2023-02-03T09:41:22.256Z"
   },
   {
    "duration": 4,
    "start_time": "2023-02-03T09:41:36.804Z"
   },
   {
    "duration": 18,
    "start_time": "2023-02-03T09:41:37.479Z"
   },
   {
    "duration": 13,
    "start_time": "2023-02-03T09:44:54.404Z"
   },
   {
    "duration": 9,
    "start_time": "2023-02-03T09:50:09.935Z"
   },
   {
    "duration": 11,
    "start_time": "2023-02-03T09:52:11.429Z"
   },
   {
    "duration": 7,
    "start_time": "2023-02-03T09:52:24.246Z"
   },
   {
    "duration": 7,
    "start_time": "2023-02-03T09:52:31.656Z"
   },
   {
    "duration": 13,
    "start_time": "2023-02-03T09:53:06.062Z"
   },
   {
    "duration": 13,
    "start_time": "2023-02-03T09:53:06.588Z"
   },
   {
    "duration": 5,
    "start_time": "2023-02-03T10:26:03.767Z"
   },
   {
    "duration": 4,
    "start_time": "2023-02-03T10:27:23.527Z"
   },
   {
    "duration": 61,
    "start_time": "2023-02-03T10:28:24.904Z"
   },
   {
    "duration": 5,
    "start_time": "2023-02-03T10:28:59.055Z"
   },
   {
    "duration": 4,
    "start_time": "2023-02-03T10:29:37.161Z"
   },
   {
    "duration": 5,
    "start_time": "2023-02-03T10:35:21.921Z"
   },
   {
    "duration": 4,
    "start_time": "2023-02-03T10:35:40.068Z"
   },
   {
    "duration": 4,
    "start_time": "2023-02-03T10:37:57.855Z"
   },
   {
    "duration": 5,
    "start_time": "2023-02-03T10:38:17.213Z"
   },
   {
    "duration": 4,
    "start_time": "2023-02-03T10:38:42.744Z"
   },
   {
    "duration": 4,
    "start_time": "2023-02-03T10:39:13.880Z"
   },
   {
    "duration": 5,
    "start_time": "2023-02-03T10:43:43.197Z"
   },
   {
    "duration": 17,
    "start_time": "2023-02-03T10:45:58.820Z"
   },
   {
    "duration": 11,
    "start_time": "2023-02-03T10:46:27.847Z"
   },
   {
    "duration": 17,
    "start_time": "2023-02-03T10:46:56.276Z"
   },
   {
    "duration": 13,
    "start_time": "2023-02-03T10:46:56.950Z"
   },
   {
    "duration": 10,
    "start_time": "2023-02-03T10:50:17.603Z"
   },
   {
    "duration": 9,
    "start_time": "2023-02-03T10:50:41.249Z"
   },
   {
    "duration": 9,
    "start_time": "2023-02-03T10:50:44.373Z"
   },
   {
    "duration": 7,
    "start_time": "2023-02-03T10:51:26.405Z"
   },
   {
    "duration": 11,
    "start_time": "2023-02-03T10:51:42.538Z"
   },
   {
    "duration": 5,
    "start_time": "2023-02-03T10:52:08.178Z"
   },
   {
    "duration": 7,
    "start_time": "2023-02-03T10:52:36.083Z"
   },
   {
    "duration": 65,
    "start_time": "2023-02-12T14:49:31.723Z"
   },
   {
    "duration": 401,
    "start_time": "2023-02-12T14:49:46.008Z"
   },
   {
    "duration": 300,
    "start_time": "2023-02-12T14:49:46.412Z"
   },
   {
    "duration": 19,
    "start_time": "2023-02-12T14:49:46.714Z"
   },
   {
    "duration": 39,
    "start_time": "2023-02-12T14:49:46.735Z"
   },
   {
    "duration": 7,
    "start_time": "2023-02-12T14:49:46.785Z"
   },
   {
    "duration": 9,
    "start_time": "2023-02-12T14:49:46.793Z"
   },
   {
    "duration": 13,
    "start_time": "2023-02-12T14:49:46.803Z"
   },
   {
    "duration": 5,
    "start_time": "2023-02-12T14:49:46.818Z"
   },
   {
    "duration": 47,
    "start_time": "2023-02-12T14:49:46.824Z"
   },
   {
    "duration": 34,
    "start_time": "2023-02-12T14:49:46.873Z"
   },
   {
    "duration": 51,
    "start_time": "2023-02-12T14:49:46.909Z"
   },
   {
    "duration": 121,
    "start_time": "2023-02-12T14:49:46.961Z"
   },
   {
    "duration": 81,
    "start_time": "2023-02-12T14:49:47.083Z"
   },
   {
    "duration": 65,
    "start_time": "2023-02-12T14:49:47.167Z"
   },
   {
    "duration": 86,
    "start_time": "2023-02-12T14:49:47.234Z"
   },
   {
    "duration": 104,
    "start_time": "2023-02-12T14:49:47.322Z"
   },
   {
    "duration": 81,
    "start_time": "2023-02-12T14:49:47.427Z"
   },
   {
    "duration": 12,
    "start_time": "2023-02-12T14:49:47.512Z"
   },
   {
    "duration": 13,
    "start_time": "2023-02-12T14:49:47.525Z"
   },
   {
    "duration": 8,
    "start_time": "2023-02-12T14:49:47.553Z"
   },
   {
    "duration": 53,
    "start_time": "2023-02-12T14:49:47.564Z"
   },
   {
    "duration": 20,
    "start_time": "2023-02-12T14:49:47.619Z"
   },
   {
    "duration": 17,
    "start_time": "2023-02-12T14:49:47.641Z"
   },
   {
    "duration": 38,
    "start_time": "2023-02-12T14:49:47.660Z"
   },
   {
    "duration": 16,
    "start_time": "2023-02-12T14:49:47.699Z"
   },
   {
    "duration": 14,
    "start_time": "2023-02-12T14:49:47.716Z"
   },
   {
    "duration": 9,
    "start_time": "2023-02-12T14:49:47.733Z"
   },
   {
    "duration": 52,
    "start_time": "2023-02-12T14:49:47.743Z"
   },
   {
    "duration": 17,
    "start_time": "2023-02-12T14:49:47.797Z"
   },
   {
    "duration": 11,
    "start_time": "2023-02-12T14:49:47.816Z"
   },
   {
    "duration": 28,
    "start_time": "2023-02-12T14:49:48.674Z"
   },
   {
    "duration": 18,
    "start_time": "2023-02-12T14:49:50.671Z"
   },
   {
    "duration": 456,
    "start_time": "2023-02-12T15:03:14.750Z"
   },
   {
    "duration": 199,
    "start_time": "2023-02-12T15:03:15.208Z"
   },
   {
    "duration": 16,
    "start_time": "2023-02-12T15:03:15.409Z"
   },
   {
    "duration": 41,
    "start_time": "2023-02-12T15:03:15.427Z"
   },
   {
    "duration": 22,
    "start_time": "2023-02-12T15:03:15.470Z"
   },
   {
    "duration": 8,
    "start_time": "2023-02-12T15:03:15.494Z"
   },
   {
    "duration": 35,
    "start_time": "2023-02-12T15:03:15.503Z"
   },
   {
    "duration": 7,
    "start_time": "2023-02-12T15:03:15.539Z"
   },
   {
    "duration": 58,
    "start_time": "2023-02-12T15:03:15.548Z"
   },
   {
    "duration": 19,
    "start_time": "2023-02-12T15:03:15.609Z"
   },
   {
    "duration": 63,
    "start_time": "2023-02-12T15:03:15.629Z"
   },
   {
    "duration": 108,
    "start_time": "2023-02-12T15:03:15.693Z"
   },
   {
    "duration": 91,
    "start_time": "2023-02-12T15:03:15.803Z"
   },
   {
    "duration": 77,
    "start_time": "2023-02-12T15:03:15.896Z"
   },
   {
    "duration": 56,
    "start_time": "2023-02-12T15:03:15.975Z"
   },
   {
    "duration": 114,
    "start_time": "2023-02-12T15:03:16.033Z"
   },
   {
    "duration": 66,
    "start_time": "2023-02-12T15:03:16.149Z"
   },
   {
    "duration": 11,
    "start_time": "2023-02-12T15:03:16.216Z"
   },
   {
    "duration": 26,
    "start_time": "2023-02-12T15:03:16.228Z"
   },
   {
    "duration": 6,
    "start_time": "2023-02-12T15:03:16.256Z"
   },
   {
    "duration": 40,
    "start_time": "2023-02-12T15:03:16.267Z"
   },
   {
    "duration": 14,
    "start_time": "2023-02-12T15:03:16.309Z"
   },
   {
    "duration": 15,
    "start_time": "2023-02-12T15:03:16.324Z"
   },
   {
    "duration": 28,
    "start_time": "2023-02-12T15:03:16.340Z"
   },
   {
    "duration": 29,
    "start_time": "2023-02-12T15:03:16.374Z"
   },
   {
    "duration": 19,
    "start_time": "2023-02-12T15:03:16.404Z"
   },
   {
    "duration": 11,
    "start_time": "2023-02-12T15:03:16.425Z"
   },
   {
    "duration": 19,
    "start_time": "2023-02-12T15:03:16.439Z"
   },
   {
    "duration": 30,
    "start_time": "2023-02-12T15:03:16.459Z"
   },
   {
    "duration": 5,
    "start_time": "2023-02-12T15:03:16.490Z"
   },
   {
    "duration": 31,
    "start_time": "2023-02-12T15:03:16.496Z"
   },
   {
    "duration": 12,
    "start_time": "2023-02-12T15:03:16.528Z"
   },
   {
    "duration": 23,
    "start_time": "2023-02-12T15:03:16.541Z"
   },
   {
    "duration": 24,
    "start_time": "2023-02-12T15:03:16.566Z"
   },
   {
    "duration": 8,
    "start_time": "2023-02-12T15:03:16.591Z"
   },
   {
    "duration": 3,
    "start_time": "2023-02-12T15:03:16.601Z"
   },
   {
    "duration": 7,
    "start_time": "2023-02-12T15:03:16.606Z"
   },
   {
    "duration": 7,
    "start_time": "2023-02-12T15:03:16.614Z"
   },
   {
    "duration": 10,
    "start_time": "2023-02-12T15:04:59.752Z"
   },
   {
    "duration": 47,
    "start_time": "2023-02-12T18:11:15.693Z"
   },
   {
    "duration": 352,
    "start_time": "2023-02-12T18:13:38.987Z"
   },
   {
    "duration": 150,
    "start_time": "2023-02-12T18:13:39.341Z"
   },
   {
    "duration": 19,
    "start_time": "2023-02-12T18:13:39.493Z"
   },
   {
    "duration": 47,
    "start_time": "2023-02-12T18:13:39.514Z"
   },
   {
    "duration": 5,
    "start_time": "2023-02-12T18:13:39.563Z"
   },
   {
    "duration": 9,
    "start_time": "2023-02-12T18:13:39.570Z"
   },
   {
    "duration": 13,
    "start_time": "2023-02-12T18:13:39.581Z"
   },
   {
    "duration": 6,
    "start_time": "2023-02-12T18:13:39.595Z"
   },
   {
    "duration": 51,
    "start_time": "2023-02-12T18:13:39.603Z"
   },
   {
    "duration": 18,
    "start_time": "2023-02-12T18:13:39.657Z"
   },
   {
    "duration": 51,
    "start_time": "2023-02-12T18:13:39.677Z"
   },
   {
    "duration": 109,
    "start_time": "2023-02-12T18:13:39.730Z"
   },
   {
    "duration": 67,
    "start_time": "2023-02-12T18:13:39.840Z"
   },
   {
    "duration": 62,
    "start_time": "2023-02-12T18:13:39.909Z"
   },
   {
    "duration": 49,
    "start_time": "2023-02-12T18:13:39.972Z"
   },
   {
    "duration": 84,
    "start_time": "2023-02-12T18:13:40.022Z"
   },
   {
    "duration": 54,
    "start_time": "2023-02-12T18:13:40.108Z"
   },
   {
    "duration": 10,
    "start_time": "2023-02-12T18:13:40.164Z"
   },
   {
    "duration": 11,
    "start_time": "2023-02-12T18:13:40.175Z"
   },
   {
    "duration": 3,
    "start_time": "2023-02-12T18:13:40.187Z"
   },
   {
    "duration": 18,
    "start_time": "2023-02-12T18:13:40.192Z"
   },
   {
    "duration": 16,
    "start_time": "2023-02-12T18:13:43.842Z"
   },
   {
    "duration": 10,
    "start_time": "2023-02-12T18:34:40.937Z"
   },
   {
    "duration": 6,
    "start_time": "2023-02-12T18:34:43.554Z"
   },
   {
    "duration": 77,
    "start_time": "2023-02-12T18:34:44.606Z"
   },
   {
    "duration": 4,
    "start_time": "2023-02-12T18:35:58.258Z"
   },
   {
    "duration": 5,
    "start_time": "2023-02-12T18:36:05.468Z"
   },
   {
    "duration": 10,
    "start_time": "2023-02-12T18:36:07.484Z"
   },
   {
    "duration": 378,
    "start_time": "2023-02-12T18:36:12.817Z"
   },
   {
    "duration": 164,
    "start_time": "2023-02-12T18:36:13.197Z"
   },
   {
    "duration": 19,
    "start_time": "2023-02-12T18:36:13.363Z"
   },
   {
    "duration": 30,
    "start_time": "2023-02-12T18:36:13.384Z"
   },
   {
    "duration": 8,
    "start_time": "2023-02-12T18:36:13.416Z"
   },
   {
    "duration": 27,
    "start_time": "2023-02-12T18:36:13.425Z"
   },
   {
    "duration": 28,
    "start_time": "2023-02-12T18:36:13.454Z"
   },
   {
    "duration": 16,
    "start_time": "2023-02-12T18:36:13.484Z"
   },
   {
    "duration": 41,
    "start_time": "2023-02-12T18:36:13.503Z"
   },
   {
    "duration": 23,
    "start_time": "2023-02-12T18:36:13.548Z"
   },
   {
    "duration": 52,
    "start_time": "2023-02-12T18:36:13.573Z"
   },
   {
    "duration": 120,
    "start_time": "2023-02-12T18:36:13.627Z"
   },
   {
    "duration": 82,
    "start_time": "2023-02-12T18:36:13.752Z"
   },
   {
    "duration": 72,
    "start_time": "2023-02-12T18:36:13.836Z"
   },
   {
    "duration": 63,
    "start_time": "2023-02-12T18:36:13.909Z"
   },
   {
    "duration": 115,
    "start_time": "2023-02-12T18:36:13.974Z"
   },
   {
    "duration": 49,
    "start_time": "2023-02-12T18:36:14.091Z"
   },
   {
    "duration": 20,
    "start_time": "2023-02-12T18:36:14.142Z"
   },
   {
    "duration": 14,
    "start_time": "2023-02-12T18:36:14.163Z"
   },
   {
    "duration": 3,
    "start_time": "2023-02-12T18:36:14.179Z"
   },
   {
    "duration": 17,
    "start_time": "2023-02-12T18:36:16.428Z"
   },
   {
    "duration": 46,
    "start_time": "2023-02-17T19:31:25.788Z"
   },
   {
    "duration": 353,
    "start_time": "2023-02-17T19:31:32.258Z"
   },
   {
    "duration": 164,
    "start_time": "2023-02-17T19:31:34.052Z"
   },
   {
    "duration": 20,
    "start_time": "2023-02-17T19:31:35.618Z"
   },
   {
    "duration": 28,
    "start_time": "2023-02-17T19:31:37.423Z"
   },
   {
    "duration": 3,
    "start_time": "2023-02-17T19:31:47.516Z"
   },
   {
    "duration": 12,
    "start_time": "2023-02-17T19:31:50.274Z"
   },
   {
    "duration": 4,
    "start_time": "2023-02-17T19:31:52.166Z"
   },
   {
    "duration": 29,
    "start_time": "2023-02-17T19:31:53.788Z"
   },
   {
    "duration": 21,
    "start_time": "2023-02-17T19:32:00.305Z"
   },
   {
    "duration": 92,
    "start_time": "2023-02-17T19:35:09.863Z"
   },
   {
    "duration": 46,
    "start_time": "2023-02-17T19:35:22.337Z"
   },
   {
    "duration": 9,
    "start_time": "2023-02-17T19:35:32.367Z"
   },
   {
    "duration": 8,
    "start_time": "2023-02-17T19:35:38.580Z"
   },
   {
    "duration": 5,
    "start_time": "2023-02-17T19:35:53.072Z"
   },
   {
    "duration": 361,
    "start_time": "2023-02-17T19:35:57.059Z"
   },
   {
    "duration": 164,
    "start_time": "2023-02-17T19:35:58.909Z"
   },
   {
    "duration": 17,
    "start_time": "2023-02-17T19:36:01.306Z"
   },
   {
    "duration": 821,
    "start_time": "2023-02-17T19:39:05.907Z"
   },
   {
    "duration": 3,
    "start_time": "2023-02-17T19:39:13.554Z"
   },
   {
    "duration": 162,
    "start_time": "2023-02-17T19:39:13.559Z"
   },
   {
    "duration": 11,
    "start_time": "2023-02-17T19:39:13.722Z"
   },
   {
    "duration": 31,
    "start_time": "2023-02-17T19:39:13.736Z"
   },
   {
    "duration": 3,
    "start_time": "2023-02-17T19:39:13.768Z"
   },
   {
    "duration": 15,
    "start_time": "2023-02-17T19:39:13.792Z"
   },
   {
    "duration": 17,
    "start_time": "2023-02-17T19:39:13.809Z"
   },
   {
    "duration": 6,
    "start_time": "2023-02-17T19:39:13.827Z"
   },
   {
    "duration": 26,
    "start_time": "2023-02-17T19:39:13.835Z"
   },
   {
    "duration": 19,
    "start_time": "2023-02-17T19:39:15.639Z"
   },
   {
    "duration": 26,
    "start_time": "2023-02-17T19:39:26.891Z"
   },
   {
    "duration": 103,
    "start_time": "2023-02-17T19:39:30.124Z"
   },
   {
    "duration": 46,
    "start_time": "2023-02-17T19:39:42.038Z"
   },
   {
    "duration": 82,
    "start_time": "2023-02-17T19:39:53.708Z"
   },
   {
    "duration": 73,
    "start_time": "2023-02-17T19:39:55.469Z"
   },
   {
    "duration": 35,
    "start_time": "2023-02-17T19:40:07.485Z"
   }
  ],
  "colab": {
   "collapsed_sections": [
    "E0vqbgi9ay0H",
    "VUC88oWjTJw2"
   ],
   "provenance": []
  },
  "kernelspec": {
   "display_name": "Python 3 (ipykernel)",
   "language": "python",
   "name": "python3"
  },
  "language_info": {
   "codemirror_mode": {
    "name": "ipython",
    "version": 3
   },
   "file_extension": ".py",
   "mimetype": "text/x-python",
   "name": "python",
   "nbconvert_exporter": "python",
   "pygments_lexer": "ipython3",
   "version": "3.9.5"
  },
  "toc": {
   "base_numbering": 1,
   "nav_menu": {
    "height": "215px",
    "width": "403px"
   },
   "number_sections": true,
   "sideBar": true,
   "skip_h1_title": true,
   "title_cell": "Table of Contents",
   "title_sidebar": "Contents",
   "toc_cell": false,
   "toc_position": {
    "height": "calc(100% - 180px)",
    "left": "10px",
    "top": "150px",
    "width": "285.825px"
   },
   "toc_section_display": true,
   "toc_window_display": false
  }
 },
 "nbformat": 4,
 "nbformat_minor": 1
}
